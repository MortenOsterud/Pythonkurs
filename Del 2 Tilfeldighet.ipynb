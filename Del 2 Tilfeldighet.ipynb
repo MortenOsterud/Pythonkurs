{
 "cells": [
  {
   "cell_type": "markdown",
   "id": "aa131b49-0737-46ec-988d-917c24ccbb97",
   "metadata": {},
   "source": [
    "<div>\n",
    "<img src=\"https://static.tildacdn.com/tild6235-6263-4234-a532-643066343561/right_logo.gif\" width=\"100\"/>\n",
    "</div>\n",
    "\n",
    "# Introduksjon til Python \n",
    "## Del 2 - Tilfeldighet\n",
    "### Mål for økten\n",
    "Når du er ferdig med økten håper jeg du kan noen begreper og har lært noen ferdigheter\n",
    "\n",
    "<b>Begreper:</b> <i> import,  library, liste, funksjon, integer,<i>\n",
    " \n",
    "<b>Ferdigheter:</b> Bruke programmering til å simulere enkle spill og terninger.\n",
    "\n",
    "Visste du at datamaskiner er elendige på tilfeldighet? Det er forøvrig mennesker også! \n",
    "\n",
    "Derfor må vi \"jukse\" litt og låne kode som noen andre har skrevet. \n",
    "    \n",
    "Dette kaller vi å <i>importere et biblitek</i>. \n",
    "\n",
    "Et bibliotek (library) i denne sammenhengen er en haug med kode noen har skrevet for oss.\n",
    "\n",
    "#### Eksempel - Tilfeldig valg fra lister\n",
    "Nedenfor har jeg laget en simulering av stein, saks, papir. \n",
    "    \n",
    "Bak #-tegnene har jeg skrevet en kort forklaring på hva hver linje gjør. # er en måte å skrive notater datamaskinen ikke bryr seg om"
   ]
  },
  {
   "cell_type": "code",
   "execution_count": null,
   "id": "7c45dc1d-f56f-4cc4-bb86-34bad7ab2bf2",
   "metadata": {},
   "outputs": [],
   "source": [
    "import random                   #Henter kode noen andre har laget. Denne koden brukes til å simulere tilfeldighet.\n",
    "valg = ('stein','saks','papir') #Lager en liste med tre elementer i.\n",
    "print (random.choice(valg))     #Velger et tilfeldig element og viser det til brukeren av programmet."
   ]
  },
  {
   "cell_type": "markdown",
   "id": "c3e03d34-dea7-43e7-b3e9-5e491445b19e",
   "metadata": {},
   "source": [
    "Du kan kjøre koden over så mange ganger du vil. På den måten kan man spille stein, saks, papir helt alene uten all spenningen!\n",
    "\n",
    "Hvis du ser nøye på variabelen <i>valg</i> kan du se at den består av 3 elementer med inni parenteser med , imellom.\n",
    "\n",
    "Dette er det vi kaller en <i><b>liste</i></b>. Lister er veldig viktige og fleksible!\n",
    "\n",
    "#### Oppgave\n",
    "Lag kode som ligner på den over. \n",
    "\n",
    "I stedet for stein, saks eller papir skal du lage et liste over favorittmaten din og la datamaskinen velge hva du skal spise til middag.\n",
    "\n",
    "Husk å gi variabelen som inneholder listen et fornufig navn, f.eks <i>mat</i>."
   ]
  },
  {
   "cell_type": "code",
   "execution_count": null,
   "id": "800f9dc7-18ab-444d-a9a1-3e931e8e9cea",
   "metadata": {},
   "outputs": [],
   "source": []
  },
  {
   "cell_type": "markdown",
   "id": "2d5ae49c-a6b3-416a-8485-8500d8a62598",
   "metadata": {},
   "source": [
    "Klarte du det? I såfall har du allerede lært masse, men det kommer enda mer... \n",
    "\n",
    "#### Eksempel - Tilfeldige tall fra lister\n",
    "Lister kan inneholde mange forskjellige typer informasjon, og til og med andre lister.\n",
    "\n",
    "Vi lager en liste med de minste <i>primtallene</i>, altså tall som bare er delelig med 1 eller seg selv.\n",
    "\n",
    "Deretter ganger vi de sammen. Klarer du å regne ut hvilke to tall som ble ganget med hverandre? \n",
    "\n",
    "Du kan kjøre koden flere ganger for å få nye tegn."
   ]
  },
  {
   "cell_type": "code",
   "execution_count": null,
   "id": "59432a57-9519-4777-b530-c350b9aa9259",
   "metadata": {},
   "outputs": [],
   "source": [
    "import random\n",
    "tall = (2, 3, 5, 7, 11, 13, 17, 19)\n",
    "a = random.choice(tall)\n",
    "b = random.choice(tall)\n",
    "print (a*b)"
   ]
  },
  {
   "cell_type": "markdown",
   "id": "236daa84-dac1-4027-bcba-6b95751600b7",
   "metadata": {},
   "source": [
    "#### Oppgave\n",
    "Oppgaven ligner litt på eksempelet over, så hvis du står fast, se på eksempelet.\n",
    "\n",
    "1. Importer biblioteket random\n",
    "2. Lag en liste med dine favorittall\n",
    "3. Bruk variablene a og b til å lagre 2 tilfeldige tall fra listen\n",
    "4. Bruk + - * eller / på tallene og skriv ut verdien. \n",
    "\n",
    "Klarer du å gjette hvilke tall som ble trukket tilfeldig?\n",
    "\n",
    "Dette kan du leke med deg selv hele dagen lang...\n",
    "\n",
    "#### Eksempel - Tilfeldige valg i løkker\n",
    "Hvis vi ønsker å gå oss bort kan vi velge å gå tilfeldig til høyre eller venstre i veikryss. \n",
    "\n",
    "Her lager jeg et et eksempel med en for-løkke som gjør velger tilfeldig 8 ganger.\n"
   ]
  },
  {
   "cell_type": "code",
   "execution_count": null,
   "id": "3d7b7dc5-82c5-43b9-a42f-2dbe1213087e",
   "metadata": {},
   "outputs": [],
   "source": [
    "import random                     # Importerer random-biblioteket\n",
    "valg = (\"Høyre\", \"Venstre\")       # En liste over valgene mine\n",
    "for _ in range (8):               # For-løkke som kjøres 8 ganger. Understreken er en midlertidig variabel\n",
    "    print (random.choice(valg))   # Skriver ut et tilfeldig valg fra listen. Dette er innholdet i for-løkken"
   ]
  },
  {
   "cell_type": "markdown",
   "id": "bf0ee623-1c1e-46e9-ae6a-1eea196baaf8",
   "metadata": {},
   "source": [
    "#### Oppgave \n",
    "Kan du lage ditt eget program som spiller kron/mynt 10 ganger?\n",
    "Hint: Som alltid er eksempelet over et godt utgangspunkt... :-)"
   ]
  },
  {
   "cell_type": "code",
   "execution_count": null,
   "id": "4c84398b-bdce-4c78-b0c4-91fe2f7492ba",
   "metadata": {},
   "outputs": [],
   "source": []
  },
  {
   "cell_type": "markdown",
   "id": "c4f391b2-6911-4ad9-a75b-ac3f93dae35a",
   "metadata": {},
   "source": [
    "### Terninger og tilfeldige tall\n",
    "I kodene over har du brukt <b>funksjoner</b> uten å vite om det. Funksjoner er oftest merket med blått, slik som \"choice\"-funksjonen vi har brukt. De tar informasjon inn, for eksempel listen (\"kron\",\"mynt\") og gir deg noe ut i andre enden,for eksempel valget \"mynt\". Vi skal også lage egne funksjoner senere, men de må rett og slett brukes for å forstås. Som med alt annet kommer vi enda mer tilbake til det... :-)\n",
    "\n",
    "Random-biblioteket har mange andre funksjoner, og den ene er å velge tilfeldig heltall.\n",
    "\n",
    "Et helt tall kalles på engelsk for <b>integer</b>. Dette forkortes int i python.\n",
    "\n",
    "Noen ganger forkortes også random til rand.\n",
    "\n",
    "Eksempler på heltall (int) er 1, 2, 0, -13 osv. Alle de hele tallene.\n",
    "\n",
    "### Eksempel - Tilfeldige tall\n",
    "Tenk at vi har 28 elever i en klasse.\n",
    "Hver dag har vi lyst til å trekke en tilfeldig elev som skal få godteri.\n",
    "Hvis vi gir hver elev et tall på forhånd kan koden nedenfor trekke hvem som vinner ved å bruke randint-funksjonen.\n",
    "\n",
    "Hvis du kjører koden flere ganger vil du få forskjellige resultater."
   ]
  },
  {
   "cell_type": "code",
   "execution_count": null,
   "id": "8a50df0e-461c-495d-9fdf-447bc506091c",
   "metadata": {},
   "outputs": [],
   "source": [
    "import random             # Importerer random-biblioteket\n",
    "t = random.randint(1,28)  # Definerer variabelen t som et tilfeldig heltall fra og med 1 til og med 28\n",
    "print (\"Gratulerer, det blir godteri til elev nr\", t)                # Skriver ut verdien til t"
   ]
  },
  {
   "cell_type": "markdown",
   "id": "c5cc42e5-bfe0-4db1-b128-5fb195a9ea51",
   "metadata": {},
   "source": [
    "Linje 2 er kanskje litt forvirrende, så den prøver jeg å forklare:\n",
    "\n",
    "randint betyr at vi henter funksjonen randint (betyr tilfeldig helt tall)\n",
    "random. betyr at denne funksjonen finnes i random-biblioteket (kode som noen andre har skrevet for oss)\n",
    "\n",
    "Forvirrende? Du blir vant til det, og da går det lett som en lek!\n",
    "\n",
    "### Oppgave\n",
    "\n",
    "Lag en kode nedenfor som simulerer en vanlig 6-sidet terning. \n",
    "Hint: Det ligner veldig på koden over!"
   ]
  },
  {
   "cell_type": "code",
   "execution_count": null,
   "id": "732cdd24-6c63-4882-ac9d-d6dabe509a10",
   "metadata": {},
   "outputs": [],
   "source": []
  },
  {
   "cell_type": "markdown",
   "id": "bfa1bfb0-3595-49b7-bcf7-dd57a3907c8d",
   "metadata": {},
   "source": [
    "#### Eksempel - To terninger\n",
    "Kanskje vil jeg heller trille to terninger? Da kan jeg utvide koden. Nå gir jeg variablene litt lengre navn. Pass på å alltid bruke små bokstaver i variabler. Siden jeg har kjørt koden med \"import random\" lengre opp trenger jeg ikke skrive den inn på nytt. Det holder å importere et bibliotek en gang per fil, så alle de ekstra gangene vi har gjort det over var bare for trening."
   ]
  },
  {
   "cell_type": "code",
   "execution_count": null,
   "id": "447965b5-53df-4952-ab9d-05e12a1cef6f",
   "metadata": {},
   "outputs": [],
   "source": [
    "terning1 = random.randint(1,6)\n",
    "terning2 = random.randint(1,6)\n",
    "print (\"Du trillet\",terning1,\"og\", terning2)"
   ]
  },
  {
   "cell_type": "markdown",
   "id": "4939cd80-db96-405a-9346-53d48488b759",
   "metadata": {},
   "source": [
    "Klarer du å skrive en kode som triller 3 terninger og skriver ut resultatene? "
   ]
  },
  {
   "cell_type": "code",
   "execution_count": null,
   "id": "7ea72a62-9a15-425b-96b1-4e4a4da0d3bf",
   "metadata": {},
   "outputs": [],
   "source": []
  },
  {
   "cell_type": "markdown",
   "id": "b30941c6-342f-49cc-862c-65419cded82b",
   "metadata": {},
   "source": [
    "#### Eksempel - Summen av 1 000 000 terninger\n",
    "Hva om vi vil summere opp en million terningkast? For hånd ville det tatt en evighet, men hvis vi simulerer det med python går det ganske fort..."
   ]
  },
  {
   "cell_type": "code",
   "execution_count": null,
   "id": "989f3e22-1e0e-4904-8c65-bbf42b3e6446",
   "metadata": {},
   "outputs": [],
   "source": [
    "sum = 0\n",
    "for _ in range (1000000):\n",
    "    kast = random.randint(1,6)\n",
    "    sum += kast\n",
    "print (sum)"
   ]
  },
  {
   "cell_type": "markdown",
   "id": "27054a54-d066-4f4a-82a0-5e3716f4a288",
   "metadata": {},
   "source": [
    "Legg merke til at jeg har skrevet <b><font color='lime'>print</font>(<font color='lime'>sum</font>)</b> uten innrykk i linje 5. Det er fordi jeg ikke vil skrive ut summen en million ganger (det dreper nok maskinen min). Jeg vil bare skrive den ut når jeg er ferdig med å trille og telle terningene."
   ]
  },
  {
   "cell_type": "markdown",
   "id": "103276e4-a8ab-4c39-a172-21a002165a48",
   "metadata": {},
   "source": [
    "#### Oppgave\n",
    "Kan du lage en kode som triller to terninger en million ganger og summerer dem?\n",
    "\n",
    "Hint: Det finnes flere måter å gjøre det på ved å skrive om koden over. Dersom summen blir ca 7 millioner har du gjort det riktig."
   ]
  },
  {
   "cell_type": "code",
   "execution_count": null,
   "id": "40e7da58-e729-422d-a1fd-f373ffe3d7f1",
   "metadata": {},
   "outputs": [],
   "source": []
  },
  {
   "cell_type": "markdown",
   "id": "59792ffa-2e30-4f0f-9228-387c644d73c3",
   "metadata": {},
   "source": [
    "#### Oppsummering\n",
    "\n",
    "<i> import,  library, liste, funksjon, integer,<i>\n",
    " \n",
    "<b>Import</b> av et <b>bibliotek</b> er å hente frem kode som andre har laget. Det sparer deg for mye hodebry.\n",
    " \n",
    "En <b>liste</b> kan bestå av mange forskjellige typer informasjon. Vi kommer til å bruke dem masse!\n",
    "\n",
    "En <b>funksjon</b> er en kodeblokk med et eget navn (f.eks choice eller randint) som gjør <b>noe</b>. Ofte putter vi informasjon inn og får noe annet ut, men de er så fleksible at de er litt vanskelige å være helt tydelig\n",
    "\n",
    "En <b>integer</b> et helt tall. Enkelt og greit. De forkortes ofte int :-)\n",
    "\n",
    "Kjør koden nedenfor hvis du vil ha en kort applaus"
   ]
  },
  {
   "cell_type": "code",
   "execution_count": null,
   "id": "84cce7f8-1890-4891-a946-701d723022c2",
   "metadata": {},
   "outputs": [],
   "source": [
    "for klapp in range (2):\n",
    "    print (\"klapp\")"
   ]
  }
 ],
 "metadata": {
  "kernelspec": {
   "display_name": "Python 3",
   "language": "python",
   "name": "python3"
  },
  "language_info": {
   "codemirror_mode": {
    "name": "ipython",
    "version": 3
   },
   "file_extension": ".py",
   "mimetype": "text/x-python",
   "name": "python",
   "nbconvert_exporter": "python",
   "pygments_lexer": "ipython3",
   "version": "3.8.8"
  }
 },
 "nbformat": 4,
 "nbformat_minor": 5
}
