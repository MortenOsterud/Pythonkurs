{
 "cells": [
  {
   "cell_type": "markdown",
   "id": "99d6c079-7ee3-4706-b973-f13e8f91ea2d",
   "metadata": {},
   "source": [
    "<div>\n",
    "<img src=\"https://static.tildacdn.com/tild6235-6263-4234-a532-643066343561/right_logo.gif\" width=\"100\"/>\n",
    "</div>\n",
    "\n",
    "# Introduksjon til Python \n",
    "## Del 1\n",
    "\n",
    "### Mål for økten\n",
    "Når du er ferdig med økten håper jeg du kan noen begreper og har lært noen ferdigheter\n",
    "\n",
    "<b>Begreper:</b> <i> kommando, variabel, løkke, betingelse<i>\n",
    " \n",
    "<b>Ferdigheter:</b> Lage enkle programmer i Python\n",
    "\n",
    "### Hva er Jupyter notebook?\n",
    "Det er programmet du er i nå. Det er en slags blanding av notatblokk, lærebok og verktøy for å skrive kode.\n",
    "\n",
    "### Hva er kode?\n",
    "Kode er instruksjoner, litt som en bakeoppskrift. Når vi skriver kode til datamaskiner kaller vi det programmering. Du kan bruke lage dine egne applikasjoner, løse problemer og få verdensherredømme. Underveis mens du lærer å programmere kan det være greit å huske på at datamaskiner er dumme som brød og har mange begrensninger. Til gjengjeld er de ekstremt raske, hardarbeidende og gjør nøyaktig som de får beskjed om (på godt og vondt). Når vi ber datamaskinen gjøre noe kaller vi det å \"kjøre\" kode.\n",
    "\n",
    "### Hva er Python?\n",
    "Python et kodespråk som både datamaskiner og mennesker kan forstå. Det finnes hundrevis av kodespråk, men når du kan et er det lett å lære seg flere. Vi begynner med Python fordi det er lett å lære, og ekstremt kraftig."
   ]
  },
  {
   "cell_type": "code",
   "execution_count": null,
   "id": "c6d34e35-d09c-445b-91eb-00540534eb2b",
   "metadata": {
    "jupyter": {
     "source_hidden": true
    },
    "tags": []
   },
   "outputs": [],
   "source": [
    "from IPython.lib.display import YouTubeVideo\n",
    "YouTubeVideo('Y8Tko2YC5hA')"
   ]
  },
  {
   "cell_type": "markdown",
   "id": "f0b90626-949e-49c3-9a11-9d7bf57d006f",
   "metadata": {},
   "source": [
    "#### Eksempel\n",
    "Vi begynner helt på starten. Nedenfor er det en boks. Vi kaller det en kodecelle. Merk cellen og trykk shift+enter for å be datamaskinen gjøre det som står der. Vi kaller det å \"kjøre\" kode. "
   ]
  },
  {
   "cell_type": "code",
   "execution_count": null,
   "id": "171250d8-27f6-42f0-9f7b-3bee4051540e",
   "metadata": {},
   "outputs": [],
   "source": [
    "print (\"Hei verden!\")"
   ]
  },
  {
   "cell_type": "markdown",
   "id": "164e7bce-52c5-4000-87f7-be4ca6f149cd",
   "metadata": {},
   "source": [
    "Forhåpentligvis så du at det dukket opp \"Hei verden\" rett over denne teksten. \n",
    "\n",
    "Print er en <b>kommando</b>, altså en beskjed om hva datamaskinen skal gjøre. \n",
    "\n",
    "På norsk betyr \"print\" det samme som \"skrive ut\". Egentlig er det bare er å vise noe på skjermen. Ordet \"skrive ut\" kommer fra gamledager og sånn er det bare, deal with it. Legg merke til parentesene () rundt det som skal vises. Dersom vi skal skrive ut tekst bruker vi også anførselstegn \"\".\n",
    "#### Oppgave\n",
    "Jeg vil at du skal skrive om kodeblokken nedenfor. Målet er at den skal se sånn ut:\n",
    "```python\n",
    "print (\"Jeg kan programmere!\")\n",
    "```\n",
    "Når kodeblokken nedenfor ser riktig ut trykker du shift+enter for å kjøre kode"
   ]
  },
  {
   "cell_type": "code",
   "execution_count": null,
   "id": "df19293e-b6a9-4780-ba8f-098c620a24bb",
   "metadata": {},
   "outputs": [],
   "source": [
    "print (\"\")"
   ]
  },
  {
   "cell_type": "markdown",
   "id": "535bc041-c5ee-47c4-aa46-72d7b41d9173",
   "metadata": {},
   "source": [
    "#### Variabler"
   ]
  },
  {
   "cell_type": "markdown",
   "id": "18cda659-706b-4fc3-8db5-7aef2cfdc391",
   "metadata": {},
   "source": [
    "Nå skalvi begynne å jobbe med <b>variabler</b>\n",
    "I starten kan vi tenkte på en <b>variabel</b> som en boks du kan putte hva som helst i.\n",
    "Det kan være tekst, tall og en hel haug med andre greier som vi lærer om senere. \n",
    "Variabler har navn og innhold\n",
    "\n",
    "#### Eksempel\n",
    "Nedenfor lager jeg en variabel som inneholder tekst. \n",
    "Jeg gir variabelen navnet <i>tekst_1</i>. \n",
    "\n",
    "Legg merke til at etter navnet kommer = og deretter innholdet i variabelen.\n",
    "Kjør koden ved å trykke shift+enter"
   ]
  },
  {
   "cell_type": "code",
   "execution_count": null,
   "id": "0049c4be-a9fa-4233-a997-75cbfc683371",
   "metadata": {},
   "outputs": [],
   "source": [
    "tekst_1 = \"Jeg har puttet denne teksten i en variabel. Deretter skriver jeg den ut\"\n",
    "print (tekst_1)"
   ]
  },
  {
   "cell_type": "markdown",
   "id": "8d060aa5-9e11-44d2-8932-589f10756a1d",
   "metadata": {},
   "source": [
    "#### Oppgave\n",
    "Bruk kodeboksen nedenfor til å gjøre som i eksempelet: Lag en variabel som inneholder tekst, og skriv den ut. Prøv å skrive alt selv, men hvis du står fast kan du kopiere fra koden i eksempelet."
   ]
  },
  {
   "cell_type": "code",
   "execution_count": null,
   "id": "a1d626ee-ee24-4d95-9f2a-1e6b1aa6f196",
   "metadata": {},
   "outputs": [],
   "source": []
  },
  {
   "cell_type": "markdown",
   "id": "8afe4072-6757-441f-b301-0a68092f821e",
   "metadata": {},
   "source": [
    "#### Eksempel\n",
    "Variabler kan også inneholde tall, og vi kan regne med dem. Både hele tall og desimaltall går fint.\n",
    "\n",
    "Nedenfor lager jeg variabelen <b><i>a</b></i> med verdien 2 og variabelen <b><i>b</b></i> med verdien 2.5. Deretter adderer jeg dem og skriver ut summen."
   ]
  },
  {
   "cell_type": "code",
   "execution_count": null,
   "id": "31c11a19-b278-4185-857e-0a66c36a6c14",
   "metadata": {},
   "outputs": [],
   "source": [
    "a = 2\n",
    "b = 2.5\n",
    "print (a+b)"
   ]
  },
  {
   "cell_type": "markdown",
   "id": "47b5d615-3ca8-4d6e-848f-2b0a6722edc1",
   "metadata": {},
   "source": [
    "Legg merke til at vi bruker . i stedet for komma i desimaltall. Dette er den internasjonale måten å gjøre det på. Get used to it...\n",
    "\n",
    "#### Oppgave\n",
    "Lag to egne variabler nedenfor med navnene <b><i>c</b></i> og <b><i>d</b></i>. Verdiene velger du selv. Deretter summerer og skriver du dem ut. Akkurat som i eksempelet over."
   ]
  },
  {
   "cell_type": "code",
   "execution_count": null,
   "id": "69c529cb-da2b-4abc-a132-2ad4a1bde21e",
   "metadata": {},
   "outputs": [],
   "source": []
  },
  {
   "cell_type": "markdown",
   "id": "83f92587-4c85-4544-8b1a-5eac4f449d33",
   "metadata": {},
   "source": [
    "Forhåpentligvis gikk det fint! Hvis ikke er det bare å spørre om hjelp! :-)\n",
    "\n",
    "Var svaret som forventet? Vi tror at datamaskiner alltid regner riktig, men det finnes enkelte regneproblemer de sliter med.\n",
    "\n",
    "$0.1 + 0.2 = 0.3$ er barneskolematte, men resultatet blir ikke som forventet når vi ber en datamaskin regne det... Prøv å kjøre koden nedenfor."
   ]
  },
  {
   "cell_type": "code",
   "execution_count": null,
   "id": "c5f34ee7-32e6-4ce6-b4c5-5e258024f193",
   "metadata": {},
   "outputs": [],
   "source": [
    "0.1+0.2"
   ]
  },
  {
   "cell_type": "markdown",
   "id": "9a951baf-88f3-430f-afbc-d224ff374b61",
   "metadata": {},
   "source": [
    "WTF?! Hvis du vil lære mer om dette kan du [klikke her](https://www.youtube.com/watch?v=s9F8pu5KfyM) for å se en video om det. \n",
    "\n",
    "Eller du kan bare akseptere at det er sånn, vi kan løse det ved å runde av, og at vi lærer mer om det senere. :-)"
   ]
  },
  {
   "cell_type": "markdown",
   "id": "96c219f1-f773-4729-89f4-fb5710f5057e",
   "metadata": {},
   "source": [
    "#### Eksempel\n",
    "Python kan blant annet bruke de 4 vanlige regneoperasjonene.\n",
    "\n",
    "\\+ addere (pluss)\n",
    "\n",
    "\\- subtrahere (minus)\n",
    "\n",
    "\\* multiplisere (gange)\n",
    "\n",
    "\\/ dividere (dele)"
   ]
  },
  {
   "cell_type": "code",
   "execution_count": null,
   "id": "cc679315-488f-46c8-a7ae-a577a875d184",
   "metadata": {},
   "outputs": [],
   "source": [
    "a = 2\n",
    "b = 2.5\n",
    "print (a+b)\n",
    "print (b-a)\n",
    "print (a*b)\n",
    "print (b/a)"
   ]
  },
  {
   "cell_type": "markdown",
   "id": "8572a045-a5e6-4109-b39a-128ded0d2d11",
   "metadata": {},
   "source": [
    "Som du ser får vi vi de resultatene vi forventer. Flaks!\n",
    "\n",
    "#### Oppgave\n",
    "I kodefeltet nedenfor skal du bruke variablene c og d fra forrige oppgave til å skrive ut regnestykker med + - * og /\n",
    "\n",
    "Akkurat som i eksempelet over. \n",
    "\n",
    "Prøv å skrive koden i stedet for å kopiere. Da lærer du raskere. :-)"
   ]
  },
  {
   "cell_type": "code",
   "execution_count": null,
   "id": "daceea26-c158-47cb-9c0f-3d741d911e90",
   "metadata": {},
   "outputs": [],
   "source": []
  },
  {
   "cell_type": "markdown",
   "id": "af8d18cb-aee3-4329-9534-0a1c41a183bb",
   "metadata": {},
   "source": [
    "#### Input\n",
    "Noen ganger ønsker våre fremtidige hersker (datamaskinen) at kjøttsekken foran tastaturet (brukeren) skal blande seg inn.\n",
    "Da bruker vi funksjonen input (\"\"). \n",
    "\n",
    "#### Eksempel\n",
    "Les koden nedenfor og prøv å forstå den. Deretter kjører du den med shift+enter, skriver navnet ditt, og trykker enter"
   ]
  },
  {
   "cell_type": "code",
   "execution_count": null,
   "id": "30dd68d2-d27c-4b2d-b705-e4fd7d529f28",
   "metadata": {},
   "outputs": [],
   "source": [
    "navn = input(\"Hva heter du?\")\n",
    "print (\"Hyggelig å hilse på deg\",navn)"
   ]
  },
  {
   "cell_type": "markdown",
   "id": "90f94116-7b73-4726-9b85-3efbf4df0d21",
   "metadata": {},
   "source": [
    "#### Oppgave\n",
    "Skriv din egen kode som stiller et spørsmål, lagrer svaret i en variabel og skriver et svar. Akkurat som i eksempelet over."
   ]
  },
  {
   "cell_type": "code",
   "execution_count": null,
   "id": "10736d46-99e8-4165-9d0b-f3dbe3624e9c",
   "metadata": {},
   "outputs": [],
   "source": []
  },
  {
   "cell_type": "markdown",
   "id": "91d2b3bc-ea4a-44b4-983e-47801d079449",
   "metadata": {},
   "source": [
    "#### Løkker\n",
    "En <b>løkke</b> er et sett med instruksjoner som gjentar seg flere ganger. \n",
    "\n",
    "På engelsk kaller vi løkker <b>loops</b>\n",
    "\n",
    "Vi må være veldig nøyaktige i hvilke tegn vi bruker og hvor teksten står. Disse skrivereglene kaller vi på programmeringsspråk for <i>syntaks</i>. Hvis du skriver noe feil håner python deg ved å skrive \"SyntaxError\". Det betyr at du har en skrivefeil et sted og at maskinen ikke vet hva den skal gjøre med det.\n",
    "\n",
    "#### Eksempel\n",
    "Nedenfor er en løkke som teller de 10 første tallene. Legg merke til : på slutten av første linje, og innrykket på linje 2.\n",
    "\n",
    "Som vanlig: Prøv å kjøre løkken med shift+enter"
   ]
  },
  {
   "cell_type": "code",
   "execution_count": null,
   "id": "6233ea0d-8e4b-4f70-be61-74c60b8d20b5",
   "metadata": {},
   "outputs": [],
   "source": [
    "for tall in range (10):\n",
    "    print (tall)"
   ]
  },
  {
   "cell_type": "markdown",
   "id": "3aa6755c-3dd6-4cb3-a863-a983e754fcc7",
   "metadata": {},
   "source": [
    "Du reagerer kanskje på at datamaskinen begynner å telle på 0 og slutter på 9? \n",
    "\n",
    "Grunnen til dette er fordi det er mer effektivt for en datamaskin å telle fra 0.\n",
    "\n",
    "Effektive datamaskiner gir glade brukere, og derfor må du bare akseptere at det er sånn. :-)\n",
    "\n",
    "#### Oppgave\n",
    "Skriv den samme koden som over (helst uten å kopiere), og finn ut hvor du skal legge til $+1$ for at programmet skal telle fra 1 til 10."
   ]
  },
  {
   "cell_type": "code",
   "execution_count": null,
   "id": "d8904082-3853-4470-be25-8cdc2e995df3",
   "metadata": {},
   "outputs": [],
   "source": []
  },
  {
   "cell_type": "markdown",
   "id": "30a7a366-df8b-451e-a5f7-89e1e96210ab",
   "metadata": {},
   "source": [
    "Vi kan også bruke while-løkker. De fortsetter å kjøre så lenge en <b>betingelse</b> er gyldig (eller sann).\n",
    "\n",
    "Eksempelet vi skal se på inneholder\n",
    "```python\n",
    "while tall > 0:\n",
    "```\n",
    "Det på norsk oversettes til:\n",
    "\n",
    "<b><font color='lime'>Så lenge</font> variabelen tall <font color='blue'>er større enn</font> <font color='lime'>0</font></b>\n",
    "\n",
    "#### Eksempel\n",
    "Her starter vi med variabelen <b><i>tall</b></i> som har verdien 10.\n",
    "Det lages en while-løkke som kjører så lenge tallet er større enn 0.\n",
    "Deretter skrive tallet ut \n",
    "Til slutt trekker vi fra 1 fra tallet ved å skrive $-=1$ og løkken begynner på nytt."
   ]
  },
  {
   "cell_type": "code",
   "execution_count": null,
   "id": "e0267d1e-07b3-454f-90ce-d68f1308d34b",
   "metadata": {},
   "outputs": [],
   "source": [
    "tall = 10\n",
    "while tall > 0:\n",
    "    print (tall)\n",
    "    tall -= 1"
   ]
  },
  {
   "cell_type": "markdown",
   "id": "60ccb13d-b6df-482b-b48d-85e2e32f00a0",
   "metadata": {},
   "source": [
    "#### Oppgave\n",
    "Kan du lage en kode nedenfor som teller baklengs fra 20 til 10? Prøv først å skrive uten å kopiere, men husk at du må være veldig presis med både tegn og innrykk. "
   ]
  },
  {
   "cell_type": "code",
   "execution_count": null,
   "id": "07ceaa9c-e7d6-41b8-8c19-b4155c0af605",
   "metadata": {},
   "outputs": [],
   "source": []
  },
  {
   "cell_type": "markdown",
   "id": "33f7f000-5f3d-4675-8d40-0a1c73fc263b",
   "metadata": {},
   "source": [
    "Klarte du det? Gratulerer! Du kan nå lage dine egne programmer i Python! I neste del skal vi jobbe med tilfeldighet og ta sjarmen ut av både stein, saks, papir og terningkasting. :-) \n",
    "\n",
    "#### Oppsummering\n",
    "En <b>kommando</b> er en beskjed om hva datamaskinen skal gjøre. \n",
    "\n",
    "En <b>løkke</b> er et sett med kommandoer som gjentar seg flere ganger.\n",
    "\n",
    "En <b>variabel</b> er en beholder som vi kan putte ting i. Vi kan endre eller erstatte det vi puttet i den.\n",
    "\n",
    "Kjør koden nedenfor hvis du vil ha en velfortjent (og noe sjelløs) applaus."
   ]
  },
  {
   "cell_type": "code",
   "execution_count": null,
   "id": "53d9f1b5-dd8b-4872-ab3a-8e39c03cce20",
   "metadata": {},
   "outputs": [],
   "source": [
    "for applaus in range (1000):\n",
    "    handling = \"klapp\"\n",
    "    print (handling)"
   ]
  }
 ],
 "metadata": {
  "kernelspec": {
   "display_name": "Python 3",
   "language": "python",
   "name": "python3"
  },
  "language_info": {
   "codemirror_mode": {
    "name": "ipython",
    "version": 3
   },
   "file_extension": ".py",
   "mimetype": "text/x-python",
   "name": "python",
   "nbconvert_exporter": "python",
   "pygments_lexer": "ipython3",
   "version": "3.8.8"
  }
 },
 "nbformat": 4,
 "nbformat_minor": 5
}
