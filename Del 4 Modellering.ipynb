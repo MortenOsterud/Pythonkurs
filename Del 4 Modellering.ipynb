{
 "cells": [
  {
   "attachments": {
    "image.png": {
     "image/png": "[encoded data removed]"
    }
   },
   "cell_type": "markdown",
   "id": "0bfe54b8-bb42-4f10-8f5a-04b5bcdc8255",
   "metadata": {},
   "source": [
    "<div>\n",
    "<img src=\"https://static.tildacdn.com/tild6235-6263-4234-a532-643066343561/right_logo.gif\" width=\"100\"/>\n",
    "</div>\n",
    "\n",
    "# Introduksjon til Pyton \n",
    "\n",
    "## Del 4 - Modellering med kuler\n",
    "\n",
    "### Mål for økten:\n",
    "Lære mer om tilfeldig trekning, litt om modellering og litt om plotting med matplotlib. \n",
    "\n",
    "**Begreper** Modellering, plot, empirisk sannsynlighet, teoretisk sannsynlighet, store talls lov\n",
    "\n",
    "**Ferdigheter** Lage enkle modelleringer som kan brukes i sannsynlighetsregning.\n",
    "\n",
    "### Modellering\n",
    "Når vi skal lage et program som trekker kuler må vi lage en *modell* av pose med kuler. Når vi lager modeller i programmering eller matematikk bestemmer vi oss for noen egenskaper vi ønsker å beholde. De egenskapene jeg ønsker å beholde er at posen inneholder mange kuler med ulike farger. Jeg velger å gjøre posen til en liste, og hver kule er representert ved teksten som symboliserer fargen til kulen. \n",
    "\n",
    "Jeg lager meg en pose med 3 røde, 2 sorte og 1 grønn kule\n",
    "\n",
    "![image.png](attachment:image.png)"
   ]
  },
  {
   "cell_type": "code",
   "execution_count": null,
   "id": "0b2be33f-cfe9-4339-9dcf-8c7ce92239b6",
   "metadata": {
    "tags": []
   },
   "outputs": [],
   "source": [
    "pose = [\"Rød\", \"Rød\", \"Rød\", \"Sort\", \"Sort\", \"Grønn\"]   # Lager en liste som fungerer som en modell av en pose med kuler"
   ]
  },
  {
   "cell_type": "markdown",
   "id": "4d6d42f6-e0b6-4bbf-8505-087bd19aa390",
   "metadata": {},
   "source": [
    "Hvis jeg vil trekke en tilfeldig kule fra posen og skrive ut fargen kan jeg skrive:"
   ]
  },
  {
   "cell_type": "code",
   "execution_count": null,
   "id": "91568860-f4ca-47d0-9823-02ea28b4f540",
   "metadata": {
    "tags": []
   },
   "outputs": [],
   "source": [
    "import random                                           # Importerer random-biblioteket\n",
    "pose = [\"Rød\", \"Rød\", \"Rød\", \"Sort\", \"Sort\", \"Grønn\"]   # Lager en liste som representerer kulene\n",
    "kule = random.choice(pose)                              # Velger en tilfeldig kule og lagrer den som variabelen kule\n",
    "print(kule)                                             # Skriver ut fargen til kulen"
   ]
  },
  {
   "cell_type": "markdown",
   "id": "de9c6e7c-7116-4efa-a896-0ac517757e6e",
   "metadata": {},
   "source": [
    "Dersom du prøver å kjøre koden flere ganger ser du at du vil trekke en tilfeldig kule hver gang."
   ]
  },
  {
   "cell_type": "markdown",
   "id": "27968cf5-8884-4113-9a38-0c1831971541",
   "metadata": {},
   "source": [
    "**Regne ut sannsynligheten for svart kule**\n",
    "\n",
    "Sannsynligheten for å trekke en sort kule kan vi skrive som $P(sort)$\n",
    "\n",
    "$P(sort) = \\frac{gunstige}{mulige}$ Siden det er to sorte kuler er det to gunstige. Totalt antall mulige kuler er 6.\n",
    "\n",
    "$P(sort) = \\frac{gunstige}{mulige}=\\frac{2}{6}=\\frac{1}{3}$\n",
    "\n",
    "Jeg ønsker å trekke én tilfeldig kule fra posen 10 ganger. Etter hver trekning legger jeg kulen tilbake. Den *teoretiske* sannsynligheten vår sier at 1/3 av kulene skal bli sort, men får vi dette resultatet når vi måler? Du kan markere cellen nedenfor og trykke ctrl+enter for å kjøre simuleringen mange ganger. Legg merke til hvor forskjellige resultater du får."
   ]
  },
  {
   "cell_type": "code",
   "execution_count": null,
   "id": "75fc5802-2ede-4642-bc80-0a2e8802466b",
   "metadata": {
    "tags": []
   },
   "outputs": [],
   "source": [
    "import random\n",
    "pose = [\"Rød\", \"Rød\", \"Rød\", \"Sort\", \"Sort\", \"Grønn\"]\n",
    "sorte = 0\n",
    "for _ in range(10):\n",
    "    kule = random.choice(pose)\n",
    "    if kule == \"Sort\":\n",
    "        sorte += 1\n",
    "print(\"Antall sorte:\",sorte)\n",
    "print(\"Andel sorte:\", sorte/10)"
   ]
  },
  {
   "cell_type": "markdown",
   "id": "fda764e9-b6ca-4b55-8c44-203f1bb25329",
   "metadata": {},
   "source": [
    "### Oppgave\n",
    "\n",
    "Lag et program som trekker en tilfeldig kule og legger den tilbake etter hver trekning på samme måte som eksempelet over. Få programmet til å gjøre 10000 trekninger og se om resultatet du får (*empirisk sannsynlighet*) nærmer seg den *teoretiske sannsynligheten* på 1/3. "
   ]
  },
  {
   "cell_type": "code",
   "execution_count": null,
   "id": "1629b4be-3ce4-43e5-9490-7e69a71c0483",
   "metadata": {},
   "outputs": [],
   "source": [
    "import random\n",
    "pose = [\"Rød\", \"Rød\", \"Rød\", \"Sort\", \"Sort\", \"Grønn\"]\n",
    "\n",
    "\n",
    "\n",
    "\n",
    "\n"
   ]
  },
  {
   "cell_type": "markdown",
   "id": "6d464ef6-56ca-4e96-83a5-8388621518bc",
   "metadata": {},
   "source": [
    "Forhåpentligvis fikk du et resultat som illlustrerer \"De store talls lov\". De store talls lov er et begrep som beskriver at jo flere tilfeller man har av en hendelse, jo nærmere vil man komme det forventede resultatet. (https://no.wikipedia.org/wiki/Store_talls_lov)\n",
    "\n",
    "\n",
    "Nå skal vi lage en pose med 5 tilfeldige kuler. Vi velger enten rosa, sort eller gul, men vet ikke på forhånd hvor mange vi får av hver type."
   ]
  },
  {
   "cell_type": "code",
   "execution_count": null,
   "id": "62fb6343-83b4-4664-a479-8b7fabd9f08d",
   "metadata": {
    "tags": []
   },
   "outputs": [],
   "source": [
    "import random\n",
    "farger = [\"Rosa\", \"Sort\", \"Gul\"]\n",
    "pose = []\n",
    "for _ in range(5):\n",
    "    pose.append(random.choice(farger))\n",
    "\n",
    "print(pose)"
   ]
  },
  {
   "cell_type": "markdown",
   "id": "74f088c0",
   "metadata": {},
   "source": [
    "Som du ser når du kjører koden får du en tilfeldig pose der innholdet blir skrevet ut. Men la oss late som vi ikke har tilgang til innholdet i posen direkte etter vi har trukket. Koden nedenfor simulerer dette. Denne koden må kjøres før du kan gå videre."
   ]
  },
  {
   "cell_type": "code",
   "execution_count": null,
   "id": "f38cfeb6-83bf-4a8e-8fd1-d920621956d2",
   "metadata": {
    "tags": []
   },
   "outputs": [],
   "source": [
    "import random\n",
    "import matplotlib.pyplot as plt\n",
    "\n",
    "farger = [\"Rosa\", \"Sort\", \"Gul\"]\n",
    "pose = []\n",
    "for _ in range(5):\n",
    "    pose.append(random.choice(farger))"
   ]
  },
  {
   "cell_type": "markdown",
   "id": "98928351-3fca-435a-9a90-18c18e8083ab",
   "metadata": {},
   "source": [
    "Vi har nå en pose med 5 kuler i, men vi aner ikke hvilke kuler. Nå kan vi bruke *empirisk* sannsynlighet. Vi vet fra *Store talls lov* at hvis vi trekker én tilfeldig kule mange nok ganger vil den empiriske sannsynligheten nærme seg den teoretiske sannsynligheten. Først prøver vi å trekke tilfeldig kule med tilbakelegg 5 ganger, fordi vi har 5 kuler. Deretter plotter vi resultatet."
   ]
  },
  {
   "cell_type": "code",
   "execution_count": null,
   "id": "7aa3c960-89e0-40ef-9e1b-fe90f21ebe6a",
   "metadata": {
    "tags": []
   },
   "outputs": [],
   "source": [
    "telleliste = [0]*3                       # Lager en liste som ser slik ut [0,0,0]\n",
    "for _ in range(5):                       # Kjører løkke 5 ganger\n",
    "    kule = random.choice(pose)           # Trekker en tilfeldig kule og lagrer den i variabelen kule\n",
    "    telleliste[farger.index(kule)] += 1  # Inkrementerer tellelisten på plassen som tilhører fargen til kulen\n",
    "\n",
    "plt.bar(farger, telleliste)              # Lager søylediagram med antall kuler av hver farge\n",
    "plt.show()                               # Viser diagrammet"
   ]
  },
  {
   "cell_type": "markdown",
   "id": "fb6203d0-da8b-404b-a4b5-1de0ce9330ca",
   "metadata": {},
   "source": [
    "Som du kanskje ser har vi et stolpediagram over hvilke 5 kuler som har blitt trukket. Men stemmer dette med den faktiske fordelingen i posen? La oss sjekke ved å trekke 10.000 ganger.\n",
    "\n",
    "### Oppgave\n",
    "Lag et lignende program som det over, men som trekker 10000 ganger i stedet for 5. Du kan enten se på koden over, eller skrive din helt egne. "
   ]
  },
  {
   "cell_type": "code",
   "execution_count": null,
   "id": "ac687332-cf6c-4800-a92f-f62219480990",
   "metadata": {
    "tags": []
   },
   "outputs": [],
   "source": []
  },
  {
   "cell_type": "markdown",
   "id": "e986cbfa",
   "metadata": {},
   "source": [
    "Kanskje fikk du nå en annen fordeling enn hva du så da du bare trakk 5 ganger? I såfall har du fått en slags illustrasjon på store talls lov i praksis. Du kan kjøre de 3 siste kodeblokkene på nytt for å få et nytt resultat."
   ]
  },
  {
   "cell_type": "markdown",
   "id": "e11e9001",
   "metadata": {},
   "source": [
    "Kjør koden nedenfor for en litt rotete applaus:"
   ]
  },
  {
   "cell_type": "code",
   "execution_count": null,
   "id": "c5f1fb72",
   "metadata": {},
   "outputs": [],
   "source": [
    "applaus = \"klapp\"\n",
    "for _ in range(1000):\n",
    "    print(random.choice(applaus), end = \"\")"
   ]
  }
 ],
 "metadata": {
  "kernelspec": {
   "display_name": "Python 3 (ipykernel)",
   "language": "python",
   "name": "python3"
  },
  "language_info": {
   "codemirror_mode": {
    "name": "ipython",
    "version": 3
   },
   "file_extension": ".py",
   "mimetype": "text/x-python",
   "name": "python",
   "nbconvert_exporter": "python",
   "pygments_lexer": "ipython3",
   "version": "3.11.5"
  }
 },
 "nbformat": 4,
 "nbformat_minor": 5
}
