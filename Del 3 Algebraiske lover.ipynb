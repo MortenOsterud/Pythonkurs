{
 "cells": [
  {
   "cell_type": "markdown",
   "id": "671d0079-ebb6-4eb8-b467-6c4688498010",
   "metadata": {},
   "source": [
    "<div>\n",
    "<img src=\"https://static.tildacdn.com/tild6235-6263-4234-a532-643066343561/right_logo.gif\" width=\"100\"/>\n",
    "</div>\n",
    "\n",
    "# Introduksjon til Pyton \n"
   ]
  },
  {
   "cell_type": "markdown",
   "id": "af872472-52f4-4b18-aa19-73b99687d11a",
   "metadata": {},
   "source": [
    "## Del 3 - 10 Algebraiske lover \n",
    "\n",
    "### Mål for økten\n",
    "\n",
    "Jobbe med programmering knyttet til de algebraiske lovene.\n",
    "Hvis du ikke allerede er kjent med de algebraiske lovene bør du ta en titt på dem først.\n",
    "\n",
    "[Klikk her for å se en video om de algebraiske lovene](https://www.youtube.com/watch?v=_7Mmz8TMQ7I)\n",
    "\n",
    "<b>Begreper:</b> <i> if, else, round, True, False, ==,<i>\n",
    " \n",
    "<b>Ferdigheter:</b> Lage programmer som sannsynliggjør de algebraiske lovene."
   ]
  },
  {
   "cell_type": "markdown",
   "id": "080f78a0-4e58-4ca7-ae53-30cee910f7b7",
   "metadata": {},
   "source": [
    "### Hva er de algebraiske lovene?\n",
    "\n",
    "De algebraiske lovene er matematiske lover som gjelder for alle tall du kjenner til. Det kan være $2$, $-7.5$ eller $\\sqrt{2}$\n",
    "\n",
    "Lovene er supernyttige verktøy som vi skal bruke mye senere. Men først må vi lære oss hva de betyr.\n",
    "\n",
    "Dette kurset er innom kombinasjoner av matematikk og programmering. Selve programmeringen er ganske enkel hvis du har gjort de 2 første kursene, men kombinert med matten kan det bli forvirrende. Husk å spørre om hjelp når du er usikker!\n",
    "\n",
    "Vi trenger noen tall å jobbe med. Siden disse reglene skal gjelde for alle tall velger vi bare noen tilfeldige heltall som er letter å jobbe med."
   ]
  },
  {
   "cell_type": "code",
   "execution_count": 2,
   "id": "62fca90c-2736-442b-a60f-915c047137da",
   "metadata": {},
   "outputs": [
    {
     "name": "stdout",
     "output_type": "stream",
     "text": [
      "a = 11\n",
      "b = 14\n",
      "c = 7\n",
      "d = 6\n"
     ]
    }
   ],
   "source": [
    "import random\n",
    "a = random.randint(1,20)\n",
    "b = random.randint(1,20)\n",
    "c = random.randint(1,20)\n",
    "d = random.randint(1,20)\n",
    "print (\"a =\",a)\n",
    "print (\"b =\",b)\n",
    "print (\"c =\",c)\n",
    "print (\"d =\",d)"
   ]
  },
  {
   "cell_type": "markdown",
   "id": "88ea2d4c-408f-47d2-b7a8-ffde51d77d84",
   "metadata": {},
   "source": [
    "### Lov 1: $a\\cdot b = b \\cdot a$\n",
    "\n",
    "I et gangestykke er faktorenes rekkefølge likegyldig.\n",
    "\n",
    "Det betyr at vi kan stokke om på rekkefølgen av tallene vi ganger uten at svaret endrer seg.\n",
    "\n",
    "Dette er veldig viktig i både likninger og algebra (og all annen matte)"
   ]
  },
  {
   "cell_type": "code",
   "execution_count": 3,
   "id": "369f686b-52e0-47dc-b3e1-53b5d996f2ef",
   "metadata": {
    "tags": []
   },
   "outputs": [
    {
     "data": {
      "text/plain": [
       "154"
      ]
     },
     "execution_count": 3,
     "metadata": {},
     "output_type": "execute_result"
    }
   ],
   "source": [
    "a * b"
   ]
  },
  {
   "cell_type": "code",
   "execution_count": 4,
   "id": "e6724e23-2671-4f04-9193-0b42333d5c2e",
   "metadata": {},
   "outputs": [
    {
     "data": {
      "text/plain": [
       "154"
      ]
     },
     "execution_count": 4,
     "metadata": {},
     "output_type": "execute_result"
    }
   ],
   "source": [
    "b * a"
   ]
  },
  {
   "cell_type": "markdown",
   "id": "db4987e3-6d65-4cb3-998d-a984dbde310e",
   "metadata": {},
   "source": [
    "Det ser ut som Python er enig. Flaks! Regn også ut for hånd for sikkerhets skyld.\n",
    "\n",
    "#### Oppgave\n",
    "Prøv å gjøre det samme som ovenfor, men med variablene c og d. \n",
    "\n",
    "Du kan enten be beholde de tilfeldige tallene Python valgte, eller bruke dine favorittall."
   ]
  },
  {
   "cell_type": "code",
   "execution_count": null,
   "id": "d72c6dd2-35f0-4c99-8ea9-52dbde80271f",
   "metadata": {},
   "outputs": [],
   "source": []
  },
  {
   "cell_type": "code",
   "execution_count": null,
   "id": "b03114c1-b8fd-407a-8feb-572d2c97f149",
   "metadata": {},
   "outputs": [],
   "source": []
  },
  {
   "cell_type": "markdown",
   "id": "32bc44ac-c339-446e-aef2-bf3186fb624e",
   "metadata": {},
   "source": [
    "Fikk du de svarene du forventet? - Regn ut for hånd for å være helt sikker."
   ]
  },
  {
   "cell_type": "markdown",
   "id": "14410327-2d5e-4f76-bef2-71bac047f491",
   "metadata": {},
   "source": [
    "### Lov 2: $a\\cdot (b + c) = (a \\cdot b) + (a \\cdot c)$\n",
    "Kort fortalt sier denne regelen at disse uttrykkene alltid er de samme.\n",
    "Dette kalles den distributive lov, og den kan være nyttig i hoderegning.\n",
    "For eksempel dersom du skal regne vanskelige hoderegningsstykker. \n",
    "\n",
    "Vi tar et lett eksempel for å forklare: $3\\cdot 17$\n",
    "\n",
    "Først deler vi 17 i 10ere og 1ere\n",
    "\n",
    "$3\\cdot 17 = 3\\cdot (10+7)$\n",
    "\n",
    "Deretter bruker vi den algebraiske loven til å endre uttrykket\n",
    "\n",
    "$3\\cdot (10+7)=3\\cdot10 + 3\\cdot 7$\n",
    "\n",
    "3 ganger 10 og 3 ganger 7 er lett å regne. Vi får\n",
    "\n",
    "$30+21=51$\n",
    "\n",
    "Kanskje var dette et for lett regnestykke til at det var nyttig?\n",
    "\n",
    "Hva med $7\\cdot 35$?"
   ]
  },
  {
   "cell_type": "code",
   "execution_count": 14,
   "id": "d94da3c3-2032-4d72-9cda-887f5b49b788",
   "metadata": {},
   "outputs": [],
   "source": [
    "a = 7\n",
    "b = 30\n",
    "c = 5"
   ]
  },
  {
   "cell_type": "markdown",
   "id": "25755e48-5df4-475d-9954-7836c70168d1",
   "metadata": {},
   "source": [
    "#### Oppgave\n",
    "1. Regn ut $7\\cdot 35$ for hånd ved å bruke denne strategien.\n",
    "2. Bruk kjør koden nedenfor for å la python regne det ut.\n",
    "\n",
    "Nb: Husk å kjøre kodeblokken over hvis du ikke har gjort det for å få riktige verdier for a, b og c"
   ]
  },
  {
   "cell_type": "code",
   "execution_count": 20,
   "id": "58126766-700b-41da-809b-e43a24a190fa",
   "metadata": {},
   "outputs": [
    {
     "data": {
      "text/plain": [
       "245"
      ]
     },
     "execution_count": 20,
     "metadata": {},
     "output_type": "execute_result"
    }
   ],
   "source": [
    "a * (b + c)"
   ]
  },
  {
   "cell_type": "code",
   "execution_count": 21,
   "id": "1f95dbab-fe70-48a9-bbd5-72f812974103",
   "metadata": {},
   "outputs": [
    {
     "data": {
      "text/plain": [
       "245"
      ]
     },
     "execution_count": 21,
     "metadata": {},
     "output_type": "execute_result"
    }
   ],
   "source": [
    "a * b + a * c"
   ]
  },
  {
   "cell_type": "markdown",
   "id": "a8f1a68a-d8a7-4d01-b1f0-4e6c8f8ec77b",
   "metadata": {},
   "source": [
    "Som du ser får vi den samme verdien. Dette er nyttig å vite når vi skal skrive om regnestykker og forenkle dem.\n",
    "\n",
    "#### Oppgave\n",
    "Regn for stykkene over for hånd og sjekk at det stemmer."
   ]
  },
  {
   "cell_type": "markdown",
   "id": "c2e4c896-fa14-483b-95d8-934a878e3a03",
   "metadata": {},
   "source": [
    "### Lov 3: $a\\cdot (b - c) = (a \\cdot b) - (a \\cdot c)$\n",
    "Dette er i praksis den samme som lov 2, men viser at det også gjelder for subtraksjon (minus).\n",
    "#### Oppgave\n",
    "Skriv om koden nedenfor så du bruker minus i stedet for pluss. \n",
    "\n",
    "Sjekk ved å regne selv for hånd at svaret stemmer."
   ]
  },
  {
   "cell_type": "code",
   "execution_count": 22,
   "id": "742e0481-2b5c-4b78-9d9b-6318e6be7775",
   "metadata": {},
   "outputs": [
    {
     "data": {
      "text/plain": [
       "245"
      ]
     },
     "execution_count": 22,
     "metadata": {},
     "output_type": "execute_result"
    }
   ],
   "source": [
    "a * (b + c)"
   ]
  },
  {
   "cell_type": "code",
   "execution_count": 23,
   "id": "4e97c8b3-86af-4113-90ea-899eb040ae68",
   "metadata": {},
   "outputs": [
    {
     "data": {
      "text/plain": [
       "245"
      ]
     },
     "execution_count": 23,
     "metadata": {},
     "output_type": "execute_result"
    }
   ],
   "source": [
    "a * b + a * c"
   ]
  },
  {
   "cell_type": "markdown",
   "id": "bbf679b0-dff6-47af-a3c6-56b29af563e8",
   "metadata": {},
   "source": [
    "### Lov 4 $a\\cdot (b \\cdot c) = (a \\cdot b) \\cdot c$\n",
    "\n",
    "Faktorer kan ganges sammen i hvilken rekkefølge man vil uten at verdien endrer seg (så lenge vi ikke blander med andre regneoperasjoner)\n",
    "\n",
    "Dette er også supernyttig i faktorisering. Faktorisering lærer vi også mer om senere.\n",
    "\n",
    "#### Oppgave\n",
    "Python forstår parenteser i regneoperasjoner.\n",
    "Skriv python-kode som skriver ut både $a\\cdot (b \\cdot c)$ og $(a \\cdot b) \\cdot c$\n",
    "\n",
    "Sjekk at du får det samme svaret i begge tilfeller."
   ]
  },
  {
   "cell_type": "code",
   "execution_count": 24,
   "id": "e12a0f4c-a5b9-4875-a463-9e8e7072a5b2",
   "metadata": {},
   "outputs": [
    {
     "data": {
      "text/plain": [
       "1050"
      ]
     },
     "execution_count": 24,
     "metadata": {},
     "output_type": "execute_result"
    }
   ],
   "source": []
  },
  {
   "cell_type": "code",
   "execution_count": 25,
   "id": "c4361ffc-f74d-4ea1-8d01-0a9fc8aaf7d0",
   "metadata": {},
   "outputs": [
    {
     "data": {
      "text/plain": [
       "1050"
      ]
     },
     "execution_count": 25,
     "metadata": {},
     "output_type": "execute_result"
    }
   ],
   "source": []
  },
  {
   "cell_type": "markdown",
   "id": "ee738f8c-a60a-4fb0-9e23-f430e0cac011",
   "metadata": {},
   "source": [
    "### Lov 5 $a - (b + c) = a - b - c$\n",
    "\n",
    "Mange synes noe føles feil med denne loven. Kan det virkelig stemme?\n",
    "\n",
    "Tenk på regnestykket $20-12$\n",
    "\n",
    "Det kan skrives på andre måter\n",
    "\n",
    "$20 - (10 + 2) = 8$\n",
    "\n",
    "Eller\n",
    "\n",
    "$20 - 10 - 2 = 12$\n",
    "\n",
    "Vi ser at vi får samme svar.\n",
    "La oss teste om det stemmer for 100 andre regnestykker med tilfeldige tall\n",
    "\n",
    "#### Eksempel\n",
    "Kjør koden nedenfor så ser du at vi får de samme verdiene hver gang."
   ]
  },
  {
   "cell_type": "code",
   "execution_count": 31,
   "id": "777fef0c-49ca-46c7-8678-57419be54744",
   "metadata": {},
   "outputs": [
    {
     "name": "stdout",
     "output_type": "stream",
     "text": [
      "197989 197989\n",
      "341864 341864\n",
      "860487 860487\n",
      "68446 68446\n",
      "952835 952835\n",
      "417480 417480\n",
      "266546 266546\n",
      "782365 782365\n",
      "-43787 -43787\n",
      "106691 106691\n"
     ]
    }
   ],
   "source": [
    "for _ in range (10):\n",
    "    a = random.randint(1,1000000)\n",
    "    b = random.randint(1,100000)\n",
    "    c = random.randint(1,100000)\n",
    "    verdi1 = a-(b+c)\n",
    "    verdi2 = a-b-c\n",
    "    print (verdi1, verdi2)"
   ]
  },
  {
   "cell_type": "markdown",
   "id": "14c8a8a6-0276-4ce3-bf09-525b5a8a751a",
   "metadata": {},
   "source": [
    "Som du ser er de to verdiene helt like hverandre, men det tar tid å sjekke dem, og det er unødvendig. Det løser vi snart...\n",
    "\n",
    "#### Oppgave\n",
    "<b>if</b> (hvis) og <b>else</b> (hvis ikke) er løkker som er helt nødvendige å lære. Vi bruker disse til å lage forgreninger i koden vår. \n",
    "\n",
    "if-løkker gjennomfører koden i innrykket dersom betingelsen er oppfylt. \n",
    "else-løkker kjøres dersom if-løkken ikke gjennomføres.\n",
    "\n",
    "1. Kjør koden nedenfor\n",
    "2. Endre varibelen fra True til False - Pass på at du har stor forbokstav i False\n",
    "3. Kjør koden på nytt"
   ]
  },
  {
   "cell_type": "code",
   "execution_count": 50,
   "id": "6c551856-f5ec-455e-ae83-a64d8d708b33",
   "metadata": {},
   "outputs": [
    {
     "name": "stdout",
     "output_type": "stream",
     "text": [
      "Klapp\n"
     ]
    }
   ],
   "source": [
    "duerveldiggladogvetdet = True\n",
    "if duerveldiggladogvetdet:\n",
    "    print (\"Klapp\")\n",
    "else:\n",
    "    print (\"¯\\_(ツ)_/¯\")"
   ]
  },
  {
   "cell_type": "markdown",
   "id": "c9bb7dad-16b5-41a1-8707-b3d7c01e38cb",
   "metadata": {},
   "source": [
    "### Lov 6 $a - (b - c) = a - b + c$\n",
    "Denne loven ligner veldig mye på lov 5, men for noen er den enda mer forvirrende. \n",
    "\n",
    "La oss først teste at den stemmer.\n",
    "#### Eksempel\n",
    "Dersom vi skal sjekke 1 000 000 verdier må vi gjøre sjekkingen automatisk. Vi har jo andre ting å gjøre enn å lese tall hele dagen...\n",
    "\n",
    "Da bruker vi == , altså to likhetstegn for å sjekke om to ting er helt like."
   ]
  },
  {
   "cell_type": "code",
   "execution_count": 41,
   "id": "5aefa4ab-0683-41a3-8752-1d7a41ff6d16",
   "metadata": {},
   "outputs": [
    {
     "name": "stdout",
     "output_type": "stream",
     "text": [
      "Ferdig! Antall vellykkede forsøk var: 1000000\n"
     ]
    }
   ],
   "source": [
    "vellykkede_forsok = 0                    # Vi starter koden med 0 vellykkede forsøk\n",
    "for _ in range (1000000):                # Denne løkken kjøres 1 000 000 ganger\n",
    "    a = random.randint(1,1000000)        # Variabelen a settes til et tilfeldig tall\n",
    "    b = random.randint(1,100000)         # Variabelen b settes til et tilfeldig tall  \n",
    "    c = random.randint(1,100000)         # Variabelen c settes til et tilfeldig tall\n",
    "    verdi1 = a-(b-c)                     # verdi1 settes til a-(b-c)\n",
    "    verdi2 = a-b+c                       # verdi2 settes til a-b+c\n",
    "    if verdi1 == verdi2:                 # Sjekker om verdiene er like og kjører koden nedenfor hvis de er det\n",
    "        vellykkede_forsok += 1           # Legg til et vellykket forsøk\n",
    "    else:                                # Hvis verdiene ikke er like kjøres koden nedenfor\n",
    "        print (\"Verdiene er ikke like\", verdi1, verdi2)  # Brukeren får se denne teksten og de to verdiene\n",
    "print (\"Ferdig! Antall vellykkede forsøk var:\", vellykkede_forsok)  # Helt til slutt viser vi resultatet"
   ]
  },
  {
   "cell_type": "markdown",
   "id": "ff4252a5-b435-44c9-a0a0-2a3fc504ef3e",
   "metadata": {},
   "source": [
    "Forhåpentligvis gikk alt fint, og vi fikk vist at regelen stemmer. \n",
    "\n",
    "#### Oppgave \n",
    "Python kommer til å lage 5 oppgaver for deg.\n",
    "Løs dem for hånd. Legg merke til at vi starter med oppgave 0 slik gode programmerere skal."
   ]
  },
  {
   "cell_type": "code",
   "execution_count": 46,
   "id": "57cb5d54-d8f8-466b-aa9e-3f4ccddfa2ac",
   "metadata": {},
   "outputs": [
    {
     "name": "stdout",
     "output_type": "stream",
     "text": [
      "Regn ut for hånd og sjekk om a-b+c blir det samme som a-(b-c)\n",
      "Oppgave: 0\n",
      "a = 74\n",
      "b = 70\n",
      "c = 85\n",
      "Oppgave: 1\n",
      "a = 58\n",
      "b = 4\n",
      "c = 78\n",
      "Oppgave: 2\n",
      "a = 58\n",
      "b = 75\n",
      "c = 26\n",
      "Oppgave: 3\n",
      "a = 53\n",
      "b = 8\n",
      "c = 32\n",
      "Oppgave: 4\n",
      "a = 26\n",
      "b = 8\n",
      "c = 39\n"
     ]
    }
   ],
   "source": [
    "print (\"Regn ut for hånd og sjekk om a-b+c blir det samme som a-(b-c)\")\n",
    "for oppgave in range (5):\n",
    "    print (\"Oppgave:\",oppgave)\n",
    "    print (\"a =\",random.randint(1,100))\n",
    "    print (\"b =\",random.randint(1,100))\n",
    "    print (\"c =\",random.randint(1,100))"
   ]
  },
  {
   "cell_type": "markdown",
   "id": "6e9bfa12-99de-4a3b-abdc-649d858a8bfd",
   "metadata": {},
   "source": [
    "### Lov 7 $\\frac{a}{c} + \\frac{b}{c} = \\frac{a + b}{c}$\n",
    "\n",
    "Nå kommer vi til en lov der Pythons regnefeil gjør at vi kanskje tviler på loven.\n",
    "\n",
    "Ikke fortvil! Den algebraiske loven stemmer, vi har bare problemer med avrunding.\n",
    "\n",
    "#### Eksempel \n",
    "Kjør koden nedenfor og se på resultatet."
   ]
  },
  {
   "cell_type": "code",
   "execution_count": 63,
   "id": "f97baccd-983b-4cc4-ad8f-ede43c983f8d",
   "metadata": {},
   "outputs": [
    {
     "name": "stdout",
     "output_type": "stream",
     "text": [
      "Verdiene er ikke like 0.4635319583909567 0.4635319583909566\n",
      "Verdiene er ikke like 0.8692538074300644 0.8692538074300643\n",
      "Verdiene er ikke like 2.8589329685362515 2.858932968536252\n",
      "Verdiene er ikke like 27.93624928530589 27.936249285305887\n",
      "Verdiene er ikke like 4.018443200579874 4.018443200579873\n",
      "Verdiene er ikke like 2.5798292892645174 2.579829289264518\n",
      "Verdiene er ikke like 0.38376267556843235 0.3837626755684323\n",
      "Verdiene er ikke like 24.09691337537338 24.096913375373383\n",
      "Verdiene er ikke like 1.6694062962180434 1.6694062962180436\n",
      "Verdiene er ikke like 1.480754578977844 1.4807545789778442\n",
      "Verdiene er ikke like 1.8280601368787166 1.8280601368787164\n",
      "Ferdig! Antall vellykkede forsøk var: 39\n"
     ]
    }
   ],
   "source": [
    "vellykkede_forsok = 0                    # Vi starter koden med 0 vellykkede forsøk\n",
    "for _ in range (50):                     # Denne løkken kjøres 50 ganger ganger\n",
    "    a = random.randint(1,100000)         # Variabelen a settes til et tilfeldig tall\n",
    "    b = random.randint(1,100000)         # Variabelen b settes til et tilfeldig tall  \n",
    "    c = random.randint(1,100000)         # Variabelen c settes til et tilfeldig tall\n",
    "    verdi1 = a/c+b/c                     # verdi1 settes til a/c+b/c\n",
    "    verdi2 = (a+b)/c                     # verdi2 settes til (a+b)/c\n",
    "    if verdi1 == verdi2:                 # Sjekker om verdiene er like og kjører koden nedenfor hvis de er det\n",
    "        vellykkede_forsok += 1           # Legg til et vellykket forsøk\n",
    "    else:                                # Hvis verdiene ikke er like kjøres koden nedenfor\n",
    "        print (\"Verdiene er ikke like\", verdi1, verdi2)  # Brukeren får se denne teksten\n",
    "print (\"Ferdig! Antall vellykkede forsøk var:\", vellykkede_forsok)  # Helt til slutt viser vi resultatet"
   ]
  },
  {
   "cell_type": "markdown",
   "id": "be483779-dff0-4bf2-87fc-fa51d4835097",
   "metadata": {},
   "source": [
    "Kanskje er halvparten av forsøkene vellykkede? De andre verdiene bør være like minst de første 10 sifrene. Dette er et problem når vi ber en datamaskin sjekke om to ting er like. Nesten er ikke godt nok!\n",
    "\n",
    "#### Oppgave\n",
    "Her har jeg kode som runder av en verdi til 10 desimalplasser. Det er en funksjon med to inputs. Vi bruker komma for å skille mellom de to inputen. Det første er verdien vi skal runde av, og det andre er hvor desimaler vi vil ha.\n",
    "\n",
    "```python\n",
    "verdi1 =  round(a/c+b/c,10)\n",
    "```\n",
    "\n",
    "Skriv om koden nedenfor slik at den runder av både verdi1 og verdi2 til 10 desimalplasser.\n",
    "Legg spesielt merke til parentesene rundt hele uttrykket."
   ]
  },
  {
   "cell_type": "code",
   "execution_count": 62,
   "id": "a7ca8c54-502d-42aa-a7b3-b5bcc57e4942",
   "metadata": {},
   "outputs": [
    {
     "name": "stdout",
     "output_type": "stream",
     "text": [
      "Verdiene er ikke like 12.83373454782043 12.833734547820429\n",
      "Verdiene er ikke like 12.594517839771552 12.59451783977155\n",
      "Verdiene er ikke like 10.8573587524768 10.857358752476799\n",
      "Verdiene er ikke like 45.640206064863605 45.6402060648636\n",
      "Verdiene er ikke like 5.556101624323199 5.556101624323198\n",
      "Verdiene er ikke like 8.304239100961105 8.304239100961103\n",
      "Verdiene er ikke like 20.24332827478995 20.243328274789945\n",
      "Verdiene er ikke like 8.296995405595935 8.296995405595936\n",
      "Verdiene er ikke like 18.79753363655394 18.797533636553943\n",
      "Ferdig! Antall vellykkede forsøk var: 41\n"
     ]
    }
   ],
   "source": [
    "vellykkede_forsok = 0                    # Vi starter koden med 0 vellykkede forsøk\n",
    "for _ in range (50):                     # Denne løkken kjøres 50 ganger ganger\n",
    "    a = random.randint(1,100000)         # Variabelen a settes til et tilfeldig tall\n",
    "    b = random.randint(1,100000)         # Variabelen b settes til et tilfeldig tall  \n",
    "    c = random.randint(1,100000)         # Variabelen c settes til et tilfeldig tall\n",
    "    verdi1 = a/c+b/c                     # verdi1 settes til a/c+b/c)\n",
    "    verdi2 = (a+b)/c                     # verdi2 settes til (a+b)/c\n",
    "    if verdi1 == verdi2:                 # Sjekker om verdiene er like og kjører koden nedenfor hvis de er det\n",
    "        vellykkede_forsok += 1           # Legg til et vellykket forsøk\n",
    "    else:                                # Hvis verdiene ikke er like kjøres koden nedenfor\n",
    "        print (\"Verdiene er ikke like\", verdi1, verdi2)  # Brukeren får se denne teksten\n",
    "print (\"Ferdig! Antall vellykkede forsøk var:\", vellykkede_forsok)  # Helt til slutt viser vi resultatet"
   ]
  },
  {
   "cell_type": "markdown",
   "id": "516b2574-06f0-4183-a614-353f175a1c9f",
   "metadata": {},
   "source": [
    "Forhåpentligvis er alle forsøkene vellykkede nå? \n",
    "\n",
    "### Lov 8 $\\frac{a}{c} - \\frac{b}{c} = \\frac{a - b}{c}$\n",
    "\n",
    "Her gjør vi akkurat det samme, men det er med minus i stedet for pluss.\n",
    "\n",
    "#### Oppgave\n",
    "\n",
    "Skriv om koden nedenfor så den tester den algebraiske loven for 2000 verdier. Du må gjøre følgende endringer:\n",
    "1. for-løkken må kjøres 2000 ganger i stedet for 50\n",
    "2. Regnetegnet i verdiene våre (linje 6 og 7) må byttes fra + til - \n",
    "3. Verdiene i linje 6 og 7 må rundes av til 10 desimaler som i forrige oppgave."
   ]
  },
  {
   "cell_type": "code",
   "execution_count": 5,
   "id": "01b97588-7c39-4ce8-8086-728b62141e9f",
   "metadata": {},
   "outputs": [
    {
     "name": "stdout",
     "output_type": "stream",
     "text": [
      "Verdiene er ikke like 1.626857202586271 1.6268572025862713\n",
      "Verdiene er ikke like 6.128893705844574 6.128893705844573\n",
      "Verdiene er ikke like 1.3337707122408258 1.333770712240826\n",
      "Verdiene er ikke like 2.9968993138296343 2.9968993138296347\n",
      "Verdiene er ikke like 1.9525278932556178 1.952527893255618\n",
      "Verdiene er ikke like 1.9477965726513071 1.947796572651307\n",
      "Verdiene er ikke like 2.391117606705044 2.3911176067050435\n",
      "Verdiene er ikke like 0.9206831400733523 0.9206831400733524\n",
      "Verdiene er ikke like 1.5170856642178336 1.5170856642178339\n",
      "Verdiene er ikke like 3.171561881826783 3.1715618818267823\n",
      "Verdiene er ikke like 0.8944109450215353 0.8944109450215354\n",
      "Verdiene er ikke like 1.5064893711869374 1.5064893711869372\n",
      "Verdiene er ikke like 2.9263518405078797 2.92635184050788\n",
      "Ferdig! Antall vellykkede forsøk var: 37\n"
     ]
    }
   ],
   "source": [
    "vellykkede_forsok = 0                    # Vi starter koden med 0 vellykkede forsøk\n",
    "for _ in range (50):                     # Denne løkken kjøres 50 ganger ganger\n",
    "    a = random.randint(1,100000)         # Variabelen a settes til et tilfeldig tall\n",
    "    b = random.randint(1,100000)         # Variabelen b settes til et tilfeldig tall  \n",
    "    c = random.randint(1,100000)         # Variabelen c settes til et tilfeldig tall\n",
    "    verdi1 = a/c+b/c                     # Linje 6\n",
    "    verdi2 = (a+b)/c                     # Linje 7\n",
    "    if verdi1 == verdi2:                 # Sjekker om verdiene er like og kjører koden nedenfor hvis de er det\n",
    "        vellykkede_forsok += 1           # Legg til et vellykket forsøk\n",
    "    else:                                # Hvis verdiene ikke er like kjøres koden nedenfor\n",
    "        print (\"Verdiene er ikke like\", verdi1, verdi2)  # Brukeren får se denne teksten\n",
    "print (\"Ferdig! Antall vellykkede forsøk var:\", vellykkede_forsok)  # Helt til slutt viser vi resultatet"
   ]
  },
  {
   "cell_type": "markdown",
   "id": "04ae2447-788e-497c-9f3f-ebeac10dfe31",
   "metadata": {},
   "source": [
    "Klarte du det? Dette begynner å bli ganske vanskelig, så husk å spørre om hjelp hvis du står fast."
   ]
  },
  {
   "cell_type": "markdown",
   "id": "2de62080-2236-42b4-a466-f528ceb2316b",
   "metadata": {},
   "source": [
    "### Lov 9 $\\frac{a}{b} = \\frac{a \\cdot c}{b \\cdot c}$\n",
    "\n",
    "Det eneste denne loven egentlig sier er at vi kan utvide brøker med akkurat hva vi vil uten å endre verdien. \n",
    "\n",
    "#### Oppgave\n",
    "1. Skriv om koden nedenfor så løkken kjøres 1000 ganger\n",
    "2. Juster linje 6 og 7 slik at de faktisk tester den 9. algebraiske loven."
   ]
  },
  {
   "cell_type": "code",
   "execution_count": null,
   "id": "242d9254-06c8-45d9-961c-fd149ae94e90",
   "metadata": {},
   "outputs": [],
   "source": [
    "vellykkede_forsok = 0                    # Vi starter koden med 0 vellykkede forsøk\n",
    "for _ in range (50):                     # Denne løkken kjøres 50 ganger ganger\n",
    "    a = random.randint(1,100000)         # Variabelen a settes til et tilfeldig tall\n",
    "    b = random.randint(1,100000)         # Variabelen b settes til et tilfeldig tall  \n",
    "    c = random.randint(1,100000)         # Variabelen c settes til et tilfeldig tall\n",
    "    verdi1 = a/c+b/c                     # Linje 6\n",
    "    verdi2 = (a+b)/c                     # Linje 7\n",
    "    if verdi1 == verdi2:                 # Sjekker om verdiene er like og kjører koden nedenfor hvis de er det\n",
    "        vellykkede_forsok += 1           # Legg til et vellykket forsøk\n",
    "    else:                                # Hvis verdiene ikke er like kjøres koden nedenfor\n",
    "        print (\"Verdiene er ikke like\", verdi1, verdi2)  # Brukeren får se denne teksten\n",
    "print (\"Ferdig! Antall vellykkede forsøk var:\", vellykkede_forsok)  # Helt til slutt viser vi resultatet"
   ]
  },
  {
   "cell_type": "markdown",
   "id": "15483eee-04c9-4bf8-af1f-7302d648d69e",
   "metadata": {},
   "source": [
    "### Lov 10 $\\frac{a}{b}\\cdot \\frac{c}{d}= \\frac{a \\cdot c}{b \\cdot d}$\n",
    "\n",
    "Denne loven sier egentlig bare at vi ganger sammen to brøker ved å gange tellerne og gange sammen  nevnerne. Egentlig ganske enkelt og greit matematisk.\n",
    "\n",
    "#### Oppgave\n",
    "Skriv kode nedenfor som tester denne loven 100 ganger med tilfeldige tall. Bruk det du har lært lengre opp. Du kan gjenbruke mye av koden du lagde i forrige oppgave, men husk at du må opprette variabelen d."
   ]
  },
  {
   "cell_type": "code",
   "execution_count": null,
   "id": "976621c1-03d4-4a60-b666-0a571803cfff",
   "metadata": {},
   "outputs": [],
   "source": []
  },
  {
   "cell_type": "markdown",
   "id": "ccec0060-19a5-4677-be03-1e2405d64911",
   "metadata": {},
   "source": [
    "Klarte du det?? \n",
    "\n",
    "Gratulerer!\n",
    "\n",
    "Kjør koden nedenfor for en litt treig applaus:"
   ]
  },
  {
   "cell_type": "code",
   "execution_count": 4,
   "id": "8f3a68cd-3e32-4004-8426-71cda6955123",
   "metadata": {},
   "outputs": [
    {
     "name": "stdout",
     "output_type": "stream",
     "text": [
      "klapp\n",
      "klapp\n",
      "klapp\n",
      "klapp\n",
      "klapp\n",
      "klapp\n",
      "klapp\n",
      "klapp\n",
      "klapp\n",
      "klapp\n"
     ]
    }
   ],
   "source": [
    "import time\n",
    "for applaus in range (10):\n",
    "    print (\"klapp\")\n",
    "    time.sleep (1)"
   ]
  },
  {
   "cell_type": "code",
   "execution_count": null,
   "id": "933fd361-a2c2-42d2-8209-db20d1bda4e0",
   "metadata": {},
   "outputs": [],
   "source": []
  }
 ],
 "metadata": {
  "kernelspec": {
   "display_name": "Python 3",
   "language": "python",
   "name": "python3"
  },
  "language_info": {
   "codemirror_mode": {
    "name": "ipython",
    "version": 3
   },
   "file_extension": ".py",
   "mimetype": "text/x-python",
   "name": "python",
   "nbconvert_exporter": "python",
   "pygments_lexer": "ipython3",
   "version": "3.8.8"
  }
 },
 "nbformat": 4,
 "nbformat_minor": 5
}
