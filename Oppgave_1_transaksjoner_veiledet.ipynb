{
 "cells": [
  {
   "cell_type": "markdown",
   "id": "e04e1d2d",
   "metadata": {},
   "source": [
    "# Åpne oppgaver del 1\n",
    "\n",
    "## Økonomi\n",
    "\n",
    "### Mål for økten\n",
    "Når du har fullført økten er målet at du skal kunne lese tekstfiler og bruke innholdet i filen til å gjennomføre gjentatte, enkle matematiske operasjoner på datasettet. \n",
    "\n",
    "<b>Valgfritt programmeringsspråk:</b>\n",
    "Oppgavene i denne økten kan løses med valgfritt programmeringsspråk, og dersom du kan programmere på flere språk anbefales det at du prøver å løse problemene i disse programmeringsspråkene også. Eksemplene og forklaringene er basert på Python ettersom dette er det vanligste programmeringsspråket i skolen. Dersom du bruker andre språk må du gjøre kalkuleringene utenfor Jupyter og bare skrive inn resultatet.\n",
    "\n",
    "<b>Begreper:</b> <i> fil, datasett, transaksjon<i>\n",
    " \n",
    "<b>Ferdigheter:</b> Lese enkle tekstfiler og analysere enkle datasett ved bruk av programmering"
   ]
  },
  {
   "cell_type": "markdown",
   "id": "db546c80",
   "metadata": {},
   "source": [
    "## Oppgave\n",
    "Nedenfor ser du oppgavene du skal løse etter hvert. Dette er en veiledet gjennomgang der du lærer det du trenger for å løse oppgaven. Om du vil prøve å løse den uten veiledning kan scrolle forbi instruksjonene nedenfor. Oppgavene gjentas på slutten av denne notebooken. Først løser vi oppgaven med datasettet transaksjoner_test.txt som er øvingssettet vårt.\n",
    "\n",
    "<b>Oppg 1: Hva er totalsummen av alle transaksjonene i datasettet.  \n",
    "\n",
    "<b>Oppg 2: Hvor stor er den største enkelttransaksjonen? \n",
    "\n",
    "<b>Oppg 3: Hvor mye har kunden som brukte mest penger handlet for? \n",
    "\n",
    "<b>Oppg 4: Hvor mye har kunden som brukte minst penger handlet for? \n",
    "\n",
    "<b>Oppg 5: Hvor mye er summen av transaksjonene for de 3 kundene som handlet for mest penger? "
   ]
  },
  {
   "cell_type": "markdown",
   "id": "4deed643",
   "metadata": {},
   "source": [
    "La oss sette i gang og løse oppgavene. Du kan enten lage en kodesnutt som løser alle oppgavene, eller løse oppgavene hver for seg.\n",
    "\n",
    "### Hvordan lese en enkel fil tekstfil\n",
    "Det finnes mange måter å lese filer i Python. Noen måter krever at du åpner og lukker filer manuelt. For å slippe dette kan vi bruke metoden nedenfor:"
   ]
  },
  {
   "cell_type": "code",
   "execution_count": null,
   "id": "a73b7709",
   "metadata": {},
   "outputs": [],
   "source": [
    "with open(\"transaksjoner_test.txt\") as file:  # Åpner filen vi ønsker å bruke. Denne lukkes automatisk og er enkel å bruke\n",
    "    data = file.read()                        # Leser innholdet i filen og lagrer innholdet i variabelen data"
   ]
  },
  {
   "cell_type": "markdown",
   "id": "a25a7fac",
   "metadata": {},
   "source": [
    "Vi kan sjekke hva slags type informasjon vi får ved å kjøre koden nedenfor"
   ]
  },
  {
   "cell_type": "code",
   "execution_count": null,
   "id": "592265a1",
   "metadata": {},
   "outputs": [],
   "source": [
    "print(type(data))  # Skriver ut typen til datasettet"
   ]
  },
  {
   "cell_type": "markdown",
   "id": "fc646dbe",
   "metadata": {},
   "source": [
    "Som vi ser er dette en tekststreng. All informasjonen i filen er altså i følge Python ren tekst, selv det som ser ut som tall.\n",
    "\n",
    "Videre kan vi skrive ut innholdet i filen for å se hvordan den ser ut"
   ]
  },
  {
   "cell_type": "code",
   "execution_count": null,
   "id": "966a2a22",
   "metadata": {},
   "outputs": [],
   "source": [
    "print(data) # Skriver ut innholdet i datasettet"
   ]
  },
  {
   "cell_type": "markdown",
   "id": "435fca1e",
   "metadata": {},
   "source": [
    "### Forklaring av data:\n",
    "En bedrift har en oversikt over alle transaksjoner per kunde. Denne eksempel-oversikten viser 4 kunder. \n",
    "\n",
    "Den første kunden har kjøp varer 1 gang for 2000kr. \n",
    "\n",
    "Den andre kunden har kjøpt varer 2 ganger for til sammen 4000kr. \n",
    "\n",
    "Tredje kunde har handlet for 12000kr.\n",
    "\n",
    "Fjerde kunde har handlet for 16000kr med sine 3 transaksjoner. \n",
    "\n",
    "Hver linje slutter med et linjeskift. I tillegg er hver linje adskilt med et ekstra linjeskift, altså en tom linje. Herfra er det mange fremgangsmåter for å arbeide videre med dataene, men i eksempelet nedenfor deler jeg opp filen vi har lest ved å bruke split-funksjonen i python med argumentene \"\\n\\n\". "
   ]
  },
  {
   "cell_type": "code",
   "execution_count": null,
   "id": "b881ee9c",
   "metadata": {},
   "outputs": [],
   "source": [
    "data = data.split(\"\\n\\n\")   # Lager en liste der den deler opp tekststrengen i data-variabelen der den finner dobble linjeskift "
   ]
  },
  {
   "cell_type": "markdown",
   "id": "3df2e13c",
   "metadata": {},
   "source": [
    "Koden ovenfor gjør ganske store endringer i datasettet vårt. Først kan vi se på typen data vi arbeider med."
   ]
  },
  {
   "cell_type": "code",
   "execution_count": null,
   "id": "6c8f32fd",
   "metadata": {},
   "outputs": [],
   "source": [
    "print(type(data))"
   ]
  },
  {
   "cell_type": "markdown",
   "id": "8d8d0303",
   "metadata": {},
   "source": [
    "Som du ser er data nå en liste. Det er fordi vi brukte split-funksjonen på tekststrengen. Denne nye listen inneholder fire tekststrenger som representerer hver av kundene. La oss skrive dem ut for å se hvordan dataene våre ser ut nå:"
   ]
  },
  {
   "cell_type": "code",
   "execution_count": null,
   "id": "35bf86a5",
   "metadata": {},
   "outputs": [],
   "source": [
    "print(data)"
   ]
  },
  {
   "cell_type": "markdown",
   "id": "8bc893af",
   "metadata": {},
   "source": [
    "Dersom du har kjennskap til løkker, lister og typer vil du nå kunne løse oppgavene som kommer. Det anbefales å først lage et program som analyserer test-dataene (transaksjoner_test.txt) og deretter bruke det samme programmet på det store datasettet som heter transaksjoner.txt\n",
    "\n",
    "Noen tips hvis du trenger dem. Koden i disse tipsene er kun eksempler, og endrer ikke dataeen du har i kodecellen over. Du kan velge å kjøre dem, eller la være:\n",
    "\n",
    "Tips 1: \n",
    "Du kan lage en løkke som går gjennom alle kundene i datasettet. Eksempel på kode du kan tilpasse er:"
   ]
  },
  {
   "cell_type": "code",
   "execution_count": null,
   "id": "a7896baa",
   "metadata": {},
   "outputs": [],
   "source": [
    "for kunde in data:\n",
    "    print(kunde)\n",
    "    print(\"------\")"
   ]
  },
  {
   "cell_type": "markdown",
   "id": "6f9df3c4",
   "metadata": {},
   "source": [
    "Tips 2: Husk å konvertere tekststrengene til tall når du skal regne med dem. Hvis du glemmer det ser det slik ut:"
   ]
  },
  {
   "cell_type": "code",
   "execution_count": null,
   "id": "1cd63223",
   "metadata": {},
   "outputs": [],
   "source": [
    "transaksjon_1 = \"1000\"\n",
    "transaksjon_2 = \"3000\"\n",
    "print(transaksjon_1+transaksjon_2)"
   ]
  },
  {
   "cell_type": "markdown",
   "id": "1adf940d",
   "metadata": {},
   "source": [
    "Og hvis du gjør det korrekt, altså bruker int-funksjonen ser det slik ut:"
   ]
  },
  {
   "cell_type": "code",
   "execution_count": null,
   "id": "4b3f26c3",
   "metadata": {},
   "outputs": [],
   "source": [
    "transaksjon_1 = \"1000\"\n",
    "transaksjon_2 = \"3000\"\n",
    "transaksjon_1 = int(transaksjon_1)\n",
    "transaksjon_2 = int(transaksjon_2)\n",
    "print(transaksjon_1+transaksjon_2)"
   ]
  },
  {
   "cell_type": "markdown",
   "id": "88226e37",
   "metadata": {},
   "source": [
    "Tips 3:\n",
    "Du kan splitte hver enkelt kunde på samme måte som du splittet variabelen data, men med ett linjeskift i stedet for 2"
   ]
  },
  {
   "cell_type": "code",
   "execution_count": null,
   "id": "a1625052",
   "metadata": {},
   "outputs": [],
   "source": [
    "kunde = '1000\\n3000'\n",
    "kunde = kunde.split('\\n')\n",
    "print(kunde)"
   ]
  },
  {
   "cell_type": "markdown",
   "id": "a3a3f495",
   "metadata": {},
   "source": [
    "### Oppgave 1\n",
    "<b>Hva er totalsummen av alle transaksjonene i datasettet <i>transaksjoner_test.txt<i>?\n",
    "\n",
    "La oss sette sammen det vi har lært over. Om du vil prøve selv kan du skrive koden i blokken nedenfor. Deretter kommer en blokk med forslag til løsning."
   ]
  },
  {
   "cell_type": "code",
   "execution_count": null,
   "id": "c8f62530",
   "metadata": {},
   "outputs": [],
   "source": [
    "###Skriv kode her om du vil løse opppgave 1 uten veiledning\n",
    "\n",
    "\n",
    "\n",
    "\n"
   ]
  },
  {
   "cell_type": "markdown",
   "id": "23baa550",
   "metadata": {},
   "source": [
    "### Forslag til løsning Oppgave 1\n",
    "<b>Hva er totalsummen av alle transaksjonene i datasettet <i> transaksjoner_test.txt<i>?<b>"
   ]
  },
  {
   "cell_type": "code",
   "execution_count": null,
   "id": "3c0e661c",
   "metadata": {},
   "outputs": [],
   "source": [
    "with open(\"transaksjoner_test.txt\") as file:  # Åpner filen vi ønsker å bruke. Denne lukkes automatisk og er enkel å bruke\n",
    "    data = file.read()                        # Leser innholdet i filen og lagrer innholdet i variabelen data\n",
    "data = data.split(\"\\n\\n\")                     # Lager en liste der den deler opp tekststrengen i data-variabelen der den finner dobble linjeskift \n",
    "totalsum = 0                                  # Lager en variabel for å lagre totalsummen av alle transaksjoner (Oppg 1)\n",
    "for kunde in data:                            # Looper gjennom hver kunde\n",
    "    kunde = kunde.split('\\n')                 # Splitter opp hver kundes transaksjoner i individuelle verdier\n",
    "    for transaksjon in kunde:                 # Looper gjennom alle transaksjonene for kunden\n",
    "        transaksjon = int(transaksjon)        # Konverterer tekststrengen som inneholder transaksjonssummen til et tall så vi kan regne med den\n",
    "        totalsum += transaksjon               # Legger til verdien av transaksjonen i totalsummen (Oppg 1)\n",
    "print(\"Svar på oppgave 1:\", totalsum)         # Skriver ut totalsummen\n",
    "        "
   ]
  },
  {
   "cell_type": "markdown",
   "id": "59b6cb24",
   "metadata": {},
   "source": [
    "Du bør ha fått som svar at summen av alle transaksjoner er 34000. Har du ikke det kan du prøve på nytt :)\n",
    "\n",
    "### Oppgave 2\n",
    "<b>Hvor stor er den største enkelttransaksjonene i datasettet <i> transaksjoner_test.txt<i>?<b>\n",
    "    \n",
    "Her kan vi løse problemet med små modifikasjoner til forrige kodesnutt. Du kan gjerne beholde koden som løser oppgave 1 slik at koden din svarer på både oppgave 1 og 2 samtidig. Husk at vi må lagre den største transaksjonen, og sjekke hver transaksjon for å se om den er større enn det vi har funnet så langt.\n",
    "    \n",
    "Løs oppgave 2 nedenfor. Under det kommer et forslag til løsning om du trenger noe å se på."
   ]
  },
  {
   "cell_type": "code",
   "execution_count": null,
   "id": "64540302",
   "metadata": {},
   "outputs": [],
   "source": [
    "###Skriv kode her om du vil løse opppgave 2 uten veiledning\n",
    "\n",
    "\n",
    "\n",
    "\n"
   ]
  },
  {
   "cell_type": "markdown",
   "id": "b252b612",
   "metadata": {},
   "source": [
    "### Forslag til løsning oppgave 2\n",
    "<b>Hvor stor er den største enkelttransaksjonene i datasettet <i> transaksjoner_test.txt<i>?<b>"
   ]
  },
  {
   "cell_type": "code",
   "execution_count": null,
   "id": "8f013229",
   "metadata": {},
   "outputs": [],
   "source": [
    "with open(\"transaksjoner_test.txt\") as file:    # Åpner filen vi ønsker å bruke. Denne lukkes automatisk og er enkel å bruke\n",
    "    data = file.read()                          # Leser innholdet i filen og lagrer innholdet i variabelen data\n",
    "data = data.split(\"\\n\\n\")                       # Lager en liste der den deler opp tekststrengen i data-variabelen der den finner dobble linjeskift \n",
    "totalsum = 0                                    # Variabel for å lagre totalsummen av alle transaksjoner (Oppg 1)\n",
    "storste_transaksjon = 0                         # Variabel for å lagre største enkelttransaksjon (Oppg 2)\n",
    "for kunde in data:                              # Looper gjennom hver kunde\n",
    "    kunde = kunde.split('\\n')                   # Splitter opp hver kundes transaksjoner i individuelle verdier\n",
    "    for transaksjon in kunde:                   # Looper gjennom alle transaksjonene for kunden\n",
    "        transaksjon = int(transaksjon)          # Konverterer tekststrengen som inneholder transaksjonssummen til et tall så vi kan regne med den\n",
    "        if transaksjon > storste_transaksjon:   # Sjekker om transaksjonen du ser på er større enn den største du har sett så langt (Oppg 2)\n",
    "            storste_transaksjon = transaksjon   # Lagrer ny verdi i variabelen storste_transaksjon (Oppg 2) \n",
    "        totalsum += transaksjon                 # Legger til verdien av transaksjonen i totalsummen (Oppg 1)\n",
    "print(\"Svar på oppgave 1:\", totalsum)           # Skriver ut totalsummen av alle transaksjoner (Oppg 1)\n",
    "print(\"Svar på oppgave 2:\", storste_transaksjon)# Skriver ut verdien på den største transaksjonen (Oppg 2)"
   ]
  },
  {
   "cell_type": "markdown",
   "id": "4552dd82",
   "metadata": {},
   "source": [
    "Forhåpentligvis fant du at svaret på den største enkelttransaksjonen er 10000kr\n",
    "### Oppgave 3\n",
    "<b>Hvor mye har kunden som brukte mest penger handlet for? "
   ]
  },
  {
   "cell_type": "code",
   "execution_count": null,
   "id": "2deccab8",
   "metadata": {},
   "outputs": [],
   "source": [
    "###Skriv kode her om du vil løse opppgave 3 uten veiledning\n",
    "\n",
    "\n",
    "\n",
    "\n"
   ]
  },
  {
   "cell_type": "markdown",
   "id": "2f3d1d68",
   "metadata": {},
   "source": [
    "### Løsningsforslag oppgave 3\n",
    "<b>Hvor mye har kunden som brukte mest penger handlet for? \n",
    "\n",
    "Her er det mange fremgangsmåter. I løsningsforslaget vil jeg velge en fremgangsmåte som bruker enklest mulig logikk og gir minst mulig endringer til eksempelscriptet."
   ]
  },
  {
   "cell_type": "code",
   "execution_count": null,
   "id": "9b873852",
   "metadata": {},
   "outputs": [],
   "source": [
    "with open(\"transaksjoner_test.txt\") as file:    # Åpner filen vi ønsker å bruke. Denne lukkes automatisk og er enkel å bruke\n",
    "    data = file.read()                          # Leser innholdet i filen og lagrer innholdet i variabelen data\n",
    "data = data.split(\"\\n\\n\")                       # Lager en liste der den deler opp tekststrengen i data-variabelen der den finner dobble linjeskift \n",
    "totalsum = 0                                    # Variabel for å lagre totalsummen av alle transaksjoner (Oppg 1)\n",
    "storste_transaksjon = 0                         # Variabel for å lagre største enkelttransaksjon (Oppg 2)\n",
    "storste_kunde = 0                               # Variabel for å lagre den kunden som har handlet for mest penger (Oppg 3)\n",
    "for kunde in data:                              # Looper gjennom hver kunde\n",
    "    kundesum = 0                                # Variabel for å lagre hver kundes sum (Oppg 3)\n",
    "    kunde = kunde.split('\\n')                   # Splitter opp hver kundes transaksjoner i individuelle verdier\n",
    "    for transaksjon in kunde:                   # Looper gjennom alle transaksjonene for kunden\n",
    "        transaksjon = int(transaksjon)          # Konverterer tekststrengen som inneholder transaksjonssummen til et tall så vi kan regne med den\n",
    "        if transaksjon > storste_transaksjon:   # Sjekker om transaksjonen du ser på er større enn den største du har sett så langt (Oppg 2)\n",
    "            storste_transaksjon = transaksjon   # Lagrer ny verdi i variabelen storste_transaksjon (Oppg 2) \n",
    "        totalsum += transaksjon                 # Legger til verdien av transaksjonen i totalsummen (Oppg 1)\n",
    "        kundesum += transaksjon                 # Legger til verdien av transaksjon i kundesummen (Oppg 3)\n",
    "    if kundesum > storste_kunde:                # Sjekker om kunden har handlet for mer enn den foreløpige største kunden (Oppg 3)\n",
    "        storste_kunde = kundesum                # Oppdaterer størrelsen på den største kunden (Oppg 3)\n",
    "print(\"Svar på oppgave 1:\", totalsum)           # Skriver ut totalsummen av alle transaksjoner (Oppg 1)\n",
    "print(\"Svar på oppgave 2:\", storste_transaksjon)# Skriver ut verdien på den største transaksjonen (Oppg 2)\n",
    "print(\"Svar på oppgave 3:\", storste_kunde)      # Skriver ut summen av transaksjoner for største kunde (Oppg 3)"
   ]
  },
  {
   "cell_type": "markdown",
   "id": "73d208ee",
   "metadata": {},
   "source": [
    "Forhåpentligvis ble svaret på oppgave 3 at den største kunden handlet for 16000\n",
    "\n",
    "### Oppgave 4\n",
    "<b>Hvor mye har kunden som brukte minst penger handlet for?"
   ]
  },
  {
   "cell_type": "code",
   "execution_count": null,
   "id": "85e603ed",
   "metadata": {},
   "outputs": [],
   "source": [
    "###Skriv kode her om du vil løse opppgave 4 uten veiledning\n",
    "\n",
    "\n",
    "\n",
    "\n"
   ]
  },
  {
   "cell_type": "markdown",
   "id": "2ccb0df4",
   "metadata": {},
   "source": [
    "### Løsningsforslag oppgave 4"
   ]
  },
  {
   "cell_type": "code",
   "execution_count": null,
   "id": "f7d3abde",
   "metadata": {},
   "outputs": [],
   "source": [
    "with open(\"transaksjoner_test.txt\") as file:    # Åpner filen vi ønsker å bruke. Denne lukkes automatisk og er enkel å bruke\n",
    "    data = file.read()                          # Leser innholdet i filen og lagrer innholdet i variabelen data\n",
    "data = data.split(\"\\n\\n\")                       # Lager en liste der den deler opp tekststrengen i data-variabelen der den finner dobble linjeskift \n",
    "totalsum = 0                                    # Variabel for å lagre totalsummen av alle transaksjoner (Oppg 1)\n",
    "storste_transaksjon = 0                         # Variabel for å lagre største enkelttransaksjon (Oppg 2)\n",
    "storste_kunde = 0                               # Variabel for å lagre den kunden som har handlet for mest penger (Oppg 3)\n",
    "minste_kunde = 10**9                            # Variabel for å lagre den kunden som har handlet for minst penger (Oppg 4). Verdien på 1 milliard er fordi jeg vet at den minste kunden er mindre enn dette\n",
    "for kunde in data:                              # Looper gjennom hver kunde\n",
    "    kundesum = 0                                # Variabel for å lagre hver kundes sum (Oppg 3 og 4)\n",
    "    kunde = kunde.split('\\n')                   # Splitter opp hver kundes transaksjoner i individuelle verdier\n",
    "    for transaksjon in kunde:                   # Looper gjennom alle transaksjonene for kunden\n",
    "        transaksjon = int(transaksjon)          # Konverterer tekststrengen som inneholder transaksjonssummen til et tall så vi kan regne med den\n",
    "        if transaksjon > storste_transaksjon:   # Sjekker om transaksjonen du ser på er større enn den største du har sett så langt (Oppg 2)\n",
    "            storste_transaksjon = transaksjon   # Lagrer ny verdi i variabelen storste_transaksjon (Oppg 2) \n",
    "        totalsum += transaksjon                 # Legger til verdien av transaksjonen i totalsummen (Oppg 1)\n",
    "        kundesum += transaksjon                 # Legger til verdien av transaksjon i kundesummen (Oppg 3 og 4)\n",
    "    if kundesum > storste_kunde:                # Sjekker om kunden har handlet for mer enn den foreløpige største kunden (Oppg 3)\n",
    "        storste_kunde = kundesum                # Oppdaterer den foreløpig største kunden (Oppg 3)\n",
    "    if kundesum < minste_kunde:                 # Sjekker om kunden har handlet for mindre enn den foreløpige minste kunden (Oppg 4)\n",
    "        minste_kunde = kundesum                 # Oppdaterer den foreløpig minste kunden (Oppg 4)\n",
    "print(\"Svar på oppgave 1:\", totalsum)           # Skriver ut totalsummen av alle transaksjoner (Oppg 1)\n",
    "print(\"Svar på oppgave 2:\", storste_transaksjon)# Skriver ut verdien på den største transaksjonen (Oppg 2)\n",
    "print(\"Svar på oppgave 3:\", storste_kunde)      # Skriver ut summen av transaksjoner for største kunde (Oppg 3)\n",
    "print(\"Svar på oppgave 4:\", minste_kunde)       # Skriver ut summen av transaksjoner for minste kunde (Oppg 4)"
   ]
  },
  {
   "cell_type": "markdown",
   "id": "771286c5",
   "metadata": {},
   "source": [
    "Her fant vi at minste kunde har handlet for 2000kr. Da gjenstår det bare én oppgave!\n",
    "\n",
    "### Oppgave 5\n",
    "<b> Hvor mye er summen av transaksjonene for de 3 kundene som handlet for mest penger?"
   ]
  },
  {
   "cell_type": "code",
   "execution_count": null,
   "id": "e799c748",
   "metadata": {},
   "outputs": [],
   "source": [
    "###Skriv kode her om du vil løse opppgave 5 uten veiledning\n",
    "\n",
    "\n",
    "\n",
    "\n"
   ]
  },
  {
   "cell_type": "markdown",
   "id": "988ea0a9",
   "metadata": {},
   "source": [
    "### Løsningsforslag oppgave 5\n",
    "<b> Hvor mye er summen av transaksjonene for de 3 kundene som handlet for mest penger?\n",
    "    \n",
    "Her kan det være lurt å tenke litt ennerledes. Problemet kan løses med enkle if-setninger, men jeg liker å bruke lister og sortering. Trenger du tips, se leksjon om lister og sortering. Dette gjør også at vi kan hente ut svarene på oppgave 3 og 4 på en annen måte for å forenkle koden. Løs oppgaven nedenfor"
   ]
  },
  {
   "cell_type": "code",
   "execution_count": null,
   "id": "f6c59a5b",
   "metadata": {},
   "outputs": [],
   "source": [
    "with open(\"transaksjoner_test.txt\") as file:    # Åpner filen vi ønsker å bruke. Denne lukkes automatisk og er enkel å bruke\n",
    "    data = file.read()                          # Leser innholdet i filen og lagrer innholdet i variabelen data\n",
    "data = data.split(\"\\n\\n\")                       # Lager en liste der den deler opp tekststrengen i data-variabelen der den finner dobble linjeskift \n",
    "totalsum = 0                                    # Variabel for å lagre totalsummen av alle transaksjoner (Oppg 1)\n",
    "storste_transaksjon = 0                         # Variabel for å lagre største enkelttransaksjon (Oppg 2)\n",
    "kundesummer = []                                # Lager en tom liste der vi kan lagre\n",
    "for kunde in data:                              # Looper gjennom hver kunde\n",
    "    kundesum = 0                                # Variabel for å lagre hver kundes sum (Oppg 3, 4 og 5)\n",
    "    kunde = kunde.split('\\n')                   # Splitter opp hver kundes transaksjoner i individuelle verdier\n",
    "    for transaksjon in kunde:                   # Looper gjennom alle transaksjonene for kunden\n",
    "        transaksjon = int(transaksjon)          # Konverterer tekststrengen som inneholder transaksjonssummen til et tall så vi kan regne med den\n",
    "        if transaksjon > storste_transaksjon:   # Sjekker om transaksjonen du ser på er større enn den største du har sett så langt (Oppg 2)\n",
    "            storste_transaksjon = transaksjon   # Lagrer ny verdi i variabelen storste_transaksjon (Oppg 2) \n",
    "        kundesum += transaksjon                 # Legger til verdien av transaksjon i kundesummen (Oppg 3, 4 og 5)\n",
    "        totalsum += transaksjon                 # Legger til verdien av transaksjonen i totalsummen (Oppg 1)\n",
    "    kundesummer.append(kundesum)                # Legger kundesummen til listen over alle kundesummer (Oppg 3, 4, 5)\n",
    "kundesummer = sorted(kundesummer)               # Sorterer listen over kundesummer i stigende rekkefølge\n",
    "print(\"Svar på oppgave 1:\", totalsum)           # Skriver ut totalsummen av alle transaksjoner (Oppg 1)\n",
    "print(\"Svar på oppgave 2:\", storste_transaksjon)# Skriver ut verdien på den største transaksjonen (Oppg 2)\n",
    "print(\"Svar på oppgave 3:\", kundesummer[-1])    # Skriver ut summen av transaksjoner for største kunde (Oppg 3)\n",
    "print(\"Svar på oppgave 4:\", kundesummer[0])     # Skriver ut summen av transaksjoner for minste kunde (Oppg 4)\n",
    "print(\"Svar på oppgave 5:\", kundesummer[-1]+kundesummer[-2]+kundesummer[-3]) # Skriver ut summen av de tre største transaksjonene (Oppg 5)"
   ]
  },
  {
   "cell_type": "markdown",
   "id": "89b711bc",
   "metadata": {},
   "source": [
    "Hvis du fikk 32000 som svar på den siste oppgaven har du gjort det riktig. Gratulerer! Da gjenstår det bare å gjøre oppgavene på det ekte datasettet. Hvis du har brukt løsningsforslagene over: <b>Prøv å skrive koden fra grunnen uten å kopiere løsningsforslaget.\n",
    "\n",
    "\n",
    "## Nedenfor kommer den <i>egentlige<i> oppgaven. Her skal du løse oppgavene med det ekte datasettet:\n",
    "### Oppgave 1\n",
    "<b>Hva er totalsummen av alle transaksjonene i datasettet <i>transaksjoner.txt<i>?"
   ]
  },
  {
   "cell_type": "code",
   "execution_count": null,
   "id": "40b744f4",
   "metadata": {},
   "outputs": [],
   "source": [
    "with open(\"transaksjoner.txt\") as file:         # Åpner filen vi ønsker å bruke. Denne lukkes automatisk og er enkel å bruke\n",
    "    data = file.read()                          # Leser innholdet i filen og lagrer innholdet i variabelen data\n",
    "\n",
    "\n",
    "# Skriv inn programmet ditt i denne kodeblokken, eller kjør det lokalt på din egen maskin med valgfritt kodespråk. \n",
    "# Svaret ditt lagres ikke, så hvis du vil ta vare på det må du lagre en lokal kopi av python-scriptet ditt."
   ]
  },
  {
   "cell_type": "markdown",
   "id": "544364ea",
   "metadata": {},
   "source": [
    "Her kan du sjekke om svaret ditt ble riktig. Kjør koden nedenfor, tast inn svaret ditt som input og se om du får riktig svar. Svaret er skrevet som et hexadesimal-tall, så du kan jo alltids jukse ved å bruke en online-konverterer, men det er jo ikke noe gøy! :)"
   ]
  },
  {
   "cell_type": "code",
   "execution_count": null,
   "id": "ea757f45",
   "metadata": {},
   "outputs": [],
   "source": [
    "totalsum = int(input('Skriv inn svar på oppgave 1: '))\n",
    "if totalsum == int(\"B20C1E\",16):\n",
    "    print(\"Du klarte det!\")\n",
    "else:\n",
    "    print(\"Beklager, svaret er feil. Prøv på nytt! :)\")"
   ]
  },
  {
   "cell_type": "markdown",
   "id": "47141eb3",
   "metadata": {},
   "source": [
    "### Oppgave 2\n",
    "<b>Hvor stor er den største enkelttransaksjonene i datasettet <i> transaksjoner.txt<i>?<b>"
   ]
  },
  {
   "cell_type": "code",
   "execution_count": null,
   "id": "5a215691",
   "metadata": {},
   "outputs": [],
   "source": [
    "# Husk å lese filen transaksjoner.txt på nytt.\n",
    "\n",
    "# Du kan kjøre koden som løser oppgaven her, eller lokalt på din egen maskin"
   ]
  },
  {
   "cell_type": "markdown",
   "id": "40680e0d",
   "metadata": {},
   "source": [
    "Her kan du sjekke svaret ditt ved å kjøre koden og skrive inn i input:"
   ]
  },
  {
   "cell_type": "code",
   "execution_count": null,
   "id": "a976e430",
   "metadata": {},
   "outputs": [],
   "source": [
    "storste_transaksjon = int(input('Skriv inn svar på oppgave 2: '))\n",
    "if storste_transaksjon == int(\"10AE1\",16):\n",
    "    print(\"Du klarte det!\")\n",
    "else:\n",
    "    print(\"Beklager, svaret er feil. Prøv på nytt! :)\")"
   ]
  },
  {
   "cell_type": "markdown",
   "id": "fdac7c13",
   "metadata": {},
   "source": [
    "### Oppgave 3\n",
    "<b>Hvor mye har kunden som brukte mest penger handlet for? "
   ]
  },
  {
   "cell_type": "code",
   "execution_count": null,
   "id": "63dad7d3",
   "metadata": {},
   "outputs": [],
   "source": [
    "# Husk å lese filen transaksjoner.txt på nytt\n",
    "\n",
    "# Du kan kjøre koden som løser oppgaven her, eller lokalt på din egen maskin"
   ]
  },
  {
   "cell_type": "markdown",
   "id": "6938c840",
   "metadata": {},
   "source": [
    "Nok en gang en kan du sjekke svaret ditt nedenfor:"
   ]
  },
  {
   "cell_type": "code",
   "execution_count": null,
   "id": "c16a7180",
   "metadata": {},
   "outputs": [],
   "source": [
    "storste_kunde = int(input('Skriv inn svar på oppgave 3: '))\n",
    "if storste_kunde == int(\"10EA9\",16):\n",
    "    print(\"Du klarte det!\")\n",
    "else:\n",
    "    print(\"Beklager, svaret er feil. Prøv på nytt! :)\")"
   ]
  },
  {
   "cell_type": "markdown",
   "id": "17066fe4",
   "metadata": {},
   "source": [
    "### Oppgave 4\n",
    "<b>Hvor mye har kunden som brukte minst penger handlet for?"
   ]
  },
  {
   "cell_type": "code",
   "execution_count": null,
   "id": "a237f3b0",
   "metadata": {},
   "outputs": [],
   "source": [
    "# Husk å lese filen transaksjoner.txt på nytt.\n",
    "\n",
    "# Du kan kjøre koden som løser oppgaven her, eller lokalt på din egen maskin"
   ]
  },
  {
   "cell_type": "markdown",
   "id": "2fa36eae",
   "metadata": {},
   "source": [
    "Sjekk svaret ditt:"
   ]
  },
  {
   "cell_type": "code",
   "execution_count": null,
   "id": "045e4662",
   "metadata": {},
   "outputs": [],
   "source": [
    "minste_kunde = int(input('Skriv inn svar på oppgave 4: '))\n",
    "if minste_kunde == int(\"18B0\",16):\n",
    "    print(\"Du klarte det!\")\n",
    "else:\n",
    "    print(\"Beklager, svaret er feil. Prøv på nytt! :)\")"
   ]
  },
  {
   "cell_type": "markdown",
   "id": "7d7fd4e2",
   "metadata": {},
   "source": [
    "### Oppgave 5\n",
    "<b> Hvor mye er summen av transaksjonene for de 3 kundene som handlet for mest penger?"
   ]
  },
  {
   "cell_type": "code",
   "execution_count": null,
   "id": "12e99fbe",
   "metadata": {},
   "outputs": [],
   "source": [
    "# Husk å lese filen transaksjoner.txt på nytt.\n",
    "\n",
    "# Du kan kjøre koden som løser oppgaven her, eller lokalt på din egen maskin"
   ]
  },
  {
   "cell_type": "markdown",
   "id": "f9e742d7",
   "metadata": {},
   "source": [
    "Sjekk svaret ditt:"
   ]
  },
  {
   "cell_type": "code",
   "execution_count": null,
   "id": "dcc4f82f",
   "metadata": {},
   "outputs": [],
   "source": [
    "tre_storste_kunder = int(input('Skriv inn svar på oppgave 5: '))\n",
    "if tre_storste_kunder == int(\"3232F\",16):\n",
    "    print(\"Du klarte det!\")\n",
    "else:\n",
    "    print(\"Beklager, svaret er feil. Prøv på nytt! :)\")"
   ]
  },
  {
   "cell_type": "markdown",
   "id": "bdcc9ec1",
   "metadata": {},
   "source": [
    "Du har nå løst alle de 5 oppgavene, eller scrollet deg til bunnen av siden. \n",
    "Uansett: Gratulerer!\n",
    "\n",
    "Bruk noen minutter på å fylle ut denne formsen:\n",
    "https://forms.office.com/e/4C98kHUGFw\n",
    "\n",
    "Hvis du liker denne typen oppgaver anbefaler jeg at du lager deg en konto på www.adventofcode.com og prøver deg på noen av oppgavene du finner der! Det er kjempegøy!\n",
    "\n",
    "Kjør koden nedenfor hvis du vil ha applaus!"
   ]
  },
  {
   "cell_type": "code",
   "execution_count": null,
   "id": "14aee304",
   "metadata": {},
   "outputs": [],
   "source": [
    "for _ in range(200):\n",
    "    print(\"Klapp\")"
   ]
  }
 ],
 "metadata": {
  "kernelspec": {
   "display_name": "Python 3 (ipykernel)",
   "language": "python",
   "name": "python3"
  },
  "language_info": {
   "codemirror_mode": {
    "name": "ipython",
    "version": 3
   },
   "file_extension": ".py",
   "mimetype": "text/x-python",
   "name": "python",
   "nbconvert_exporter": "python",
   "pygments_lexer": "ipython3",
   "version": "3.11.5"
  }
 },
 "nbformat": 4,
 "nbformat_minor": 5
}
