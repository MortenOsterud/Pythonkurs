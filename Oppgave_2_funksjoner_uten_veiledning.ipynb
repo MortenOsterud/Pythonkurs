{
 "cells": [
  {
   "cell_type": "markdown",
   "id": "9452fea5",
   "metadata": {},
   "source": [
    "# Åpen oppgave - Funksjoner\n",
    "\n",
    "Målet med denne oppgaven er å identifisere 23 funksjoner og gjenskape dem. \n",
    "Det vil bli kjørt en test på funksjonene etterpå for å se om du har funnet riktige funksjoner\n",
    "\n",
    "Funksjonene har navn a, b, c, d ... v, w\n",
    "\n",
    "Kjør koden nedenfor for å importere funksjonene og se hvordan a-funksjonen ser ut."
   ]
  },
  {
   "cell_type": "code",
   "execution_count": 5,
   "id": "7a968e5b",
   "metadata": {},
   "outputs": [
    {
     "name": "stdout",
     "output_type": "stream",
     "text": [
      "Funksjon a\n",
      "(x, y)\n",
      "------\n",
      "(-1, -1)\n",
      "(0, 0)\n",
      "(1, 1)\n",
      "(2, 2)\n",
      "(3, 3)\n"
     ]
    }
   ],
   "source": [
    "from funksjonsbibliotek import a, b, c, d, e, f, g, h, i, j, k, l, m, n, o, p, q, r, s, t, u, v, w, test\n",
    "from math import sqrt, pi, log10\n",
    "\n",
    "x_verdier = [-1, 0, 1, 2, 3]\n",
    "\n",
    "funksjon = a\n",
    "print(\"Funksjon a\")\n",
    "print(\"(x, y)\")\n",
    "print(\"------\")\n",
    "for x in x_verdier:\n",
    "    print(funksjon(x))"
   ]
  },
  {
   "cell_type": "markdown",
   "id": "eb004862",
   "metadata": {},
   "source": [
    "Som vi kan se sender vi tallene-1, 0, 1, 2 og 3 inn i funksjonen og får akkurat de samme tallene tilbake. Dette ser mistenkelig ut som den proporsjonale funksjonen f(x) = x. Dvs at for hvert gang x-verdien øker med 1 øker også y-verdien med 1."
   ]
  },
  {
   "cell_type": "code",
   "execution_count": 2,
   "id": "b111d394",
   "metadata": {},
   "outputs": [
    {
     "name": "stdout",
     "output_type": "stream",
     "text": [
      "(0, 1)\n",
      "(1, 3)\n",
      "(2, 5)\n",
      "(3, 7)\n"
     ]
    }
   ],
   "source": [
    "### Her kan du kode hva du vil for å finne funksjonsuttrykkene\n",
    "\n",
    "x_verdier = [0, 1, 2, 3] # Endre denne for å endre hvilke verdier du sender inn i funksjonen\n",
    "\n",
    "funksjon = b # Endre denne for å endre hvilken funksjon du sender verdiene inn i .\n",
    "\n",
    "for x in x_verdier:\n",
    "    print(funksjon(x))"
   ]
  },
  {
   "cell_type": "code",
   "execution_count": 3,
   "id": "77457b66",
   "metadata": {},
   "outputs": [],
   "source": [
    "### Her kan du kode hva du vil for å finne funksjonsuttrykkene\n",
    "\n",
    "\n",
    "\n",
    "\n",
    "\n",
    "\n"
   ]
  },
  {
   "cell_type": "code",
   "execution_count": 6,
   "id": "5e955e66",
   "metadata": {},
   "outputs": [
    {
     "name": "stdout",
     "output_type": "stream",
     "text": [
      "Godkjent a\n",
      "Feil funksjonsuttrykk b\n",
      "Feil funksjonsuttrykk c\n",
      "Feil funksjonsuttrykk d\n",
      "Feil funksjonsuttrykk e\n",
      "Feil funksjonsuttrykk f\n",
      "Feil funksjonsuttrykk g\n",
      "Feil funksjonsuttrykk h\n",
      "Feil funksjonsuttrykk i\n",
      "Feil funksjonsuttrykk j\n",
      "Feil funksjonsuttrykk k\n",
      "Feil funksjonsuttrykk l\n",
      "Feil funksjonsuttrykk m\n",
      "Feil funksjonsuttrykk n\n",
      "Feil funksjonsuttrykk o\n",
      "Feil funksjonsuttrykk p\n",
      "Feil funksjonsuttrykk q\n",
      "Feil funksjonsuttrykk r\n",
      "Feil funksjonsuttrykk s\n",
      "Feil funksjonsuttrykk t\n",
      "Feil funksjonsuttrykk u\n",
      "Feil funksjonsuttrykk v\n",
      "Godkjent w\n"
     ]
    }
   ],
   "source": [
    "#Her taster du inn funksjonsuttrykkene du har funnet. Kjør koden for å teste om det er riktig\n",
    "\n",
    "def ny_a(x):\n",
    "    y = x # Denne har du fått gratis. Vi har den proporsjonale funksjonen f(x) = x\n",
    "    return (x, y)\n",
    "\n",
    "def ny_b(x):\n",
    "    y = x # Skriv inn funksjonen her i stedet for x\n",
    "    return (x, y)\n",
    "\n",
    "def ny_c(x):\n",
    "    y = x # Skriv inn funksjonen her i stedet for x\n",
    "    return (x, y)\n",
    "\n",
    "def ny_d(x):\n",
    "    y = x # Skriv inn funksjonen her i stedet for x\n",
    "    return (x, y)\n",
    "\n",
    "def ny_e(x):\n",
    "    y = x # Skriv inn funksjonen her i stedet for x\n",
    "    return (x, y)\n",
    "\n",
    "def ny_f(x):\n",
    "    y = x # Skriv inn funksjonen her i stedet for x\n",
    "    return (x, y)\n",
    "\n",
    "def ny_g(x):\n",
    "    y = x # Skriv inn funksjonen her i stedet for x\n",
    "    return (x, y)\n",
    "\n",
    "def ny_h(x):\n",
    "    y = x # Skriv inn funksjonen her i stedet for x\n",
    "    return (x, y)\n",
    "\n",
    "def ny_i(x):\n",
    "    y = x # Skriv inn funksjonen her i stedet for x\n",
    "    return (x, y)\n",
    "\n",
    "def ny_j(x):\n",
    "    y = x # Skriv inn funksjonen her i stedet for x\n",
    "    return (x, y)\n",
    "\n",
    "def ny_k(x):\n",
    "    y = x # Skriv inn funksjonen her i stedet for x\n",
    "    return (x, y)\n",
    "\n",
    "def ny_l(x):\n",
    "    y = x # Skriv inn funksjonen her i stedet for x\n",
    "    return (x, y)\n",
    "\n",
    "def ny_m(x):\n",
    "    y = x # Skriv inn funksjonen her i stedet for x\n",
    "    return (x, y)\n",
    "\n",
    "def ny_n(x):\n",
    "    y = x # Skriv inn funksjonen her i stedet for x\n",
    "    return (x, y)\n",
    "\n",
    "def ny_o(x):\n",
    "    y = x # Skriv inn funksjonen her i stedet for x\n",
    "    return (x, y)\n",
    "\n",
    "def ny_p(x):\n",
    "    y = x # Skriv inn funksjonen her i stedet for x\n",
    "    return (x, y)\n",
    "\n",
    "def ny_q(x):\n",
    "    y = x # Skriv inn funksjonen her i stedet for x\n",
    "    return (x, y)\n",
    "\n",
    "def ny_r(x):\n",
    "    y = x # Skriv inn funksjonen her i stedet for x\n",
    "    return (x, y)\n",
    "\n",
    "def ny_s(x):\n",
    "    y = x # Skriv inn funksjonen her i stedet for x\n",
    "    return (x, y)\n",
    "\n",
    "def ny_t(x):\n",
    "    y = x # Skriv inn funksjonen her i stedet for x\n",
    "    return (x, y)\n",
    "\n",
    "def ny_u(x):\n",
    "    y = x # Skriv inn funksjonen her i stedet for x\n",
    "    return (x, y)\n",
    "\n",
    "def ny_v(x):\n",
    "    y = x # Skriv inn funksjonen her i stedet for x\n",
    "    return (x, y)\n",
    "\n",
    "def ny_w(x):\n",
    "    y = x # Skriv inn funksjonen her i stedet for x\n",
    "    return (x, y)\n",
    "\n",
    "test(ny_a, ny_b, ny_c, ny_d, ny_e, ny_f, ny_g, ny_h, ny_i, ny_j, ny_k, ny_l, ny_m, ny_n, ny_o, ny_p, ny_q, ny_r, ny_s, ny_t, ny_u, ny_v, ny_w)"
   ]
  },
  {
   "cell_type": "code",
   "execution_count": null,
   "id": "8d0525c2",
   "metadata": {},
   "outputs": [],
   "source": []
  },
  {
   "cell_type": "code",
   "execution_count": null,
   "id": "a11edf58",
   "metadata": {},
   "outputs": [],
   "source": []
  },
  {
   "cell_type": "code",
   "execution_count": null,
   "id": "aa80cfc3",
   "metadata": {},
   "outputs": [],
   "source": []
  }
 ],
 "metadata": {
  "kernelspec": {
   "display_name": "Python 3 (ipykernel)",
   "language": "python",
   "name": "python3"
  },
  "language_info": {
   "codemirror_mode": {
    "name": "ipython",
    "version": 3
   },
   "file_extension": ".py",
   "mimetype": "text/x-python",
   "name": "python",
   "nbconvert_exporter": "python",
   "pygments_lexer": "ipython3",
   "version": "3.11.5"
  }
 },
 "nbformat": 4,
 "nbformat_minor": 5
}
