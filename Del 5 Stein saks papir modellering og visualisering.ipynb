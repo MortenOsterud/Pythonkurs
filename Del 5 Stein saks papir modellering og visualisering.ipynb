{
 "cells": [
  {
   "cell_type": "markdown",
   "id": "42a41c3a",
   "metadata": {},
   "source": [
    "# Del 5\n",
    "\n",
    "Vi skal simulere en stein, saks, papir-turnering. Her er fordelingen av de ulike valgene for de tre deltakerne, Morten, Amalie og Oskar. Husk å kjøre kodeblokken nedenfor med enten shift+enter eller ctrl+enter"
   ]
  },
  {
   "cell_type": "code",
   "execution_count": null,
   "id": "4b2eb18c",
   "metadata": {},
   "outputs": [],
   "source": [
    "valg = [\"Stein\", \"Saks\", \"Papir\"]\n",
    "mortens_vekting = [0.4, 0.4]\n",
    "amalies_vekting = [0.3, 0.3]\n",
    "oskars_vekting = [0.2, 0.5]"
   ]
  },
  {
   "cell_type": "markdown",
   "id": "90d5dd86",
   "metadata": {},
   "source": [
    "Informasjonen ovenfor betyr at f.eks Morten velger 40% stein, 40% saks og de resterende 20% blir papir. Siden dette er <i>teoretisk sannsynlighet</i> er det ikke nøyaktig dette resultatet vi fikk da vi kjørte simuleringen og lagret resultatene. \n",
    "\n",
    "Legg også merke til at vi <b>ikke<b> har en <i>uniform sannsynlighetsmodell</i> for vi ser at ikke alle utfallene er like sannsynlige.\n",
    "\n",
    "Først simulerer vi runder der hver spiller velger 'Stein', 'Saks' eller 'Papir' ut fra sine egne vektinger. Selve simuleringen hopper vi over for nå. heeelt nederst i dokumentet ser du simuleringen hvis du er interessert. Resultatene ser du nedenfor."
   ]
  },
  {
   "cell_type": "code",
   "execution_count": null,
   "id": "e7e3d824",
   "metadata": {},
   "outputs": [],
   "source": [
    "morten = ['Saks', 'Papir', 'Saks', 'Saks', 'Stein', 'Stein', 'Stein', 'Papir', 'Stein', 'Stein', 'Stein', 'Papir', 'Saks', 'Papir', 'Saks', 'Saks', 'Saks', 'Stein', 'Stein', 'Saks', 'Stein', 'Stein', 'Stein', 'Saks', 'Saks', 'Stein', 'Saks', 'Stein', 'Saks', 'Stein', 'Saks', 'Stein', 'Saks', 'Saks', 'Saks', 'Stein', 'Saks', 'Papir', 'Stein', 'Saks', 'Saks', 'Papir', 'Stein', 'Stein', 'Papir', 'Stein', 'Stein', 'Stein', 'Stein', 'Saks', 'Stein', 'Stein', 'Saks', 'Papir', 'Stein', 'Stein', 'Saks', 'Saks', 'Saks', 'Saks', 'Stein', 'Papir', 'Stein', 'Saks', 'Saks', 'Stein', 'Saks', 'Stein', 'Stein', 'Stein', 'Stein', 'Stein', 'Stein', 'Stein', 'Papir', 'Saks', 'Saks', 'Saks', 'Papir', 'Stein', 'Stein', 'Stein', 'Stein', 'Stein', 'Saks', 'Stein', 'Stein', 'Saks', 'Papir', 'Saks', 'Stein', 'Papir', 'Papir', 'Stein', 'Papir', 'Saks', 'Papir', 'Papir', 'Papir', 'Saks']\n",
    "amalie = ['Papir', 'Stein', 'Papir', 'Papir', 'Papir', 'Saks', 'Papir', 'Saks', 'Saks', 'Stein', 'Stein', 'Stein', 'Saks', 'Stein', 'Papir', 'Papir', 'Papir', 'Papir', 'Saks', 'Saks', 'Saks', 'Saks', 'Papir', 'Papir', 'Papir', 'Stein', 'Saks', 'Saks', 'Papir', 'Stein', 'Papir', 'Papir', 'Stein', 'Saks', 'Saks', 'Stein', 'Papir', 'Saks', 'Saks', 'Stein', 'Saks', 'Stein', 'Papir', 'Saks', 'Papir', 'Papir', 'Papir', 'Saks', 'Saks', 'Stein', 'Papir', 'Papir', 'Stein', 'Saks', 'Papir', 'Stein', 'Saks', 'Stein', 'Stein', 'Saks', 'Saks', 'Papir', 'Papir', 'Stein', 'Stein', 'Stein', 'Stein', 'Saks', 'Papir', 'Papir', 'Papir', 'Saks', 'Stein', 'Stein', 'Papir', 'Saks', 'Saks', 'Saks', 'Papir', 'Papir', 'Papir', 'Papir', 'Saks', 'Saks', 'Saks', 'Saks', 'Saks', 'Stein', 'Stein', 'Stein', 'Stein', 'Papir', 'Papir', 'Papir', 'Saks', 'Stein', 'Papir', 'Saks', 'Saks', 'Stein']\n",
    "oskar = ['Saks', 'Saks', 'Saks', 'Papir', 'Saks', 'Stein', 'Papir', 'Stein', 'Saks', 'Stein', 'Papir', 'Papir', 'Papir', 'Saks', 'Stein', 'Papir', 'Stein', 'Papir', 'Stein', 'Saks', 'Papir', 'Papir', 'Papir', 'Saks', 'Stein', 'Papir', 'Saks', 'Stein', 'Papir', 'Stein', 'Stein', 'Papir', 'Saks', 'Papir', 'Saks', 'Papir', 'Papir', 'Papir', 'Stein', 'Saks', 'Saks', 'Saks', 'Papir', 'Saks', 'Stein', 'Stein', 'Saks', 'Papir', 'Papir', 'Saks', 'Saks', 'Saks', 'Saks', 'Saks', 'Saks', 'Saks', 'Papir', 'Saks', 'Saks', 'Saks', 'Stein', 'Papir', 'Stein', 'Saks', 'Saks', 'Papir', 'Saks', 'Stein', 'Saks', 'Papir', 'Saks', 'Saks', 'Papir', 'Papir', 'Stein', 'Saks', 'Stein', 'Papir', 'Stein', 'Saks', 'Saks', 'Saks', 'Stein', 'Saks', 'Saks', 'Saks', 'Saks', 'Papir', 'Saks', 'Papir', 'Papir', 'Papir', 'Stein', 'Papir', 'Stein', 'Saks', 'Stein', 'Papir', 'Saks', 'Saks']"
   ]
  },
  {
   "cell_type": "markdown",
   "id": "2a7ee1f5",
   "metadata": {},
   "source": [
    "Våre fantastiske deltakere har forhåndsvalgt de 100 trekkene sine i en stein-saks-papir-konkurranse. Trekkene er lagret som lister. \n",
    "\n",
    "Nedenfor ser du hvordan du kan telle opp resultater fra en liste:\n",
    "\n",
    "### Eksempel: Telling i lister"
   ]
  },
  {
   "cell_type": "code",
   "execution_count": null,
   "id": "23bdbc51",
   "metadata": {},
   "outputs": [],
   "source": [
    "dyr = ['Hest', 'Hest', 'Ku', 'Hest', 'ku']\n",
    "\n",
    "hest = dyr.count('Hest')\n",
    "ku = dyr.count('Ku')\n",
    "\n",
    "print(hest)\n",
    "print(ku)"
   ]
  },
  {
   "cell_type": "markdown",
   "id": "5738218b",
   "metadata": {},
   "source": [
    "Som forventet får vi 3 hester, men det virker rart at vi bare klarer å telle 1 ku. \n",
    "Det er fordi den andre kua har fått liten forbokstav. Trenger du å telle noe med både små og store bokstaver kan du bruke funksjoner som heter .upper() eller .lower() for å gjøre om tekst til store eller små bokstaver, men detaljene kan du søke opp hvis du trenger det senere. Du får ikke bruk for det i denne oppgaven.\n",
    "\n",
    "### Oppgave: \n",
    "Bruk .count()-funksjonen til å telle over hvor mange 'Stein', hvor mange 'Saks', og hvor mange 'Papir' Morten har. Husk stor forbokstav."
   ]
  },
  {
   "cell_type": "code",
   "execution_count": null,
   "id": "d52e7e04",
   "metadata": {},
   "outputs": [],
   "source": [
    "morten = ['Saks', 'Papir', 'Saks', 'Saks', 'Stein', 'Stein', 'Stein', 'Papir', 'Stein', 'Stein', 'Stein', 'Papir', 'Saks', 'Papir', 'Saks', 'Saks', 'Saks', 'Stein', 'Stein', 'Saks', 'Stein', 'Stein', 'Stein', 'Saks', 'Saks', 'Stein', 'Saks', 'Stein', 'Saks', 'Stein', 'Saks', 'Stein', 'Saks', 'Saks', 'Saks', 'Stein', 'Saks', 'Papir', 'Stein', 'Saks', 'Saks', 'Papir', 'Stein', 'Stein', 'Papir', 'Stein', 'Stein', 'Stein', 'Stein', 'Saks', 'Stein', 'Stein', 'Saks', 'Papir', 'Stein', 'Stein', 'Saks', 'Saks', 'Saks', 'Saks', 'Stein', 'Papir', 'Stein', 'Saks', 'Saks', 'Stein', 'Saks', 'Stein', 'Stein', 'Stein', 'Stein', 'Stein', 'Stein', 'Stein', 'Papir', 'Saks', 'Saks', 'Saks', 'Papir', 'Stein', 'Stein', 'Stein', 'Stein', 'Stein', 'Saks', 'Stein', 'Stein', 'Saks', 'Papir', 'Saks', 'Stein', 'Papir', 'Papir', 'Stein', 'Papir', 'Saks', 'Papir', 'Papir', 'Papir', 'Saks']\n",
    "amalie = ['Papir', 'Stein', 'Papir', 'Papir', 'Papir', 'Saks', 'Papir', 'Saks', 'Saks', 'Stein', 'Stein', 'Stein', 'Saks', 'Stein', 'Papir', 'Papir', 'Papir', 'Papir', 'Saks', 'Saks', 'Saks', 'Saks', 'Papir', 'Papir', 'Papir', 'Stein', 'Saks', 'Saks', 'Papir', 'Stein', 'Papir', 'Papir', 'Stein', 'Saks', 'Saks', 'Stein', 'Papir', 'Saks', 'Saks', 'Stein', 'Saks', 'Stein', 'Papir', 'Saks', 'Papir', 'Papir', 'Papir', 'Saks', 'Saks', 'Stein', 'Papir', 'Papir', 'Stein', 'Saks', 'Papir', 'Stein', 'Saks', 'Stein', 'Stein', 'Saks', 'Saks', 'Papir', 'Papir', 'Stein', 'Stein', 'Stein', 'Stein', 'Saks', 'Papir', 'Papir', 'Papir', 'Saks', 'Stein', 'Stein', 'Papir', 'Saks', 'Saks', 'Saks', 'Papir', 'Papir', 'Papir', 'Papir', 'Saks', 'Saks', 'Saks', 'Saks', 'Saks', 'Stein', 'Stein', 'Stein', 'Stein', 'Papir', 'Papir', 'Papir', 'Saks', 'Stein', 'Papir', 'Saks', 'Saks', 'Stein']\n",
    "oskar = ['Saks', 'Saks', 'Saks', 'Papir', 'Saks', 'Stein', 'Papir', 'Stein', 'Saks', 'Stein', 'Papir', 'Papir', 'Papir', 'Saks', 'Stein', 'Papir', 'Stein', 'Papir', 'Stein', 'Saks', 'Papir', 'Papir', 'Papir', 'Saks', 'Stein', 'Papir', 'Saks', 'Stein', 'Papir', 'Stein', 'Stein', 'Papir', 'Saks', 'Papir', 'Saks', 'Papir', 'Papir', 'Papir', 'Stein', 'Saks', 'Saks', 'Saks', 'Papir', 'Saks', 'Stein', 'Stein', 'Saks', 'Papir', 'Papir', 'Saks', 'Saks', 'Saks', 'Saks', 'Saks', 'Saks', 'Saks', 'Papir', 'Saks', 'Saks', 'Saks', 'Stein', 'Papir', 'Stein', 'Saks', 'Saks', 'Papir', 'Saks', 'Stein', 'Saks', 'Papir', 'Saks', 'Saks', 'Papir', 'Papir', 'Stein', 'Saks', 'Stein', 'Papir', 'Stein', 'Saks', 'Saks', 'Saks', 'Stein', 'Saks', 'Saks', 'Saks', 'Saks', 'Papir', 'Saks', 'Papir', 'Papir', 'Papir', 'Stein', 'Papir', 'Stein', 'Saks', 'Stein', 'Papir', 'Saks', 'Saks']\n",
    "\n",
    "# Sett inn tellefunksjonen for mortens valg av 'Stein' her, og sørg for at den skriver ut resultatet.\n",
    "\n",
    "# Sett inn tellefunksjonen for mortens valg av 'Saks' her, og sørg for at den skriver ut resultatet.\n",
    "\n",
    "# Sett inn tellefunksjonen for mortens valg av 'Papir' her, og sørg for at den skriver ut resultatet."
   ]
  },
  {
   "cell_type": "markdown",
   "id": "6dfd48f0",
   "metadata": {},
   "source": [
    "Det bør være 46 stein, 36 saks og 18 papir hvis du har talt riktig. \n",
    "Som vi vet er <i>relativ frekvens</i> antallet av et utfall delt på det totale antallet observasjoner.\n",
    "I eksemplene vi skal jobbe med er antallet observasjoner 100, og derfor får vi regnet den relative frekvensen ved å dele på 100.\n",
    "\n",
    "### Relativ frekvens stein:\n",
    "$$\n",
    "\\frac{46}{100} = 0.46\n",
    "$$\n",
    "\n",
    "### Relativ frekvens saks:\n",
    "$$\n",
    "\\frac{36}{100} = 0.36\n",
    "$$\n",
    "\n",
    "### Relativ frekvens papir:\n",
    "$$\n",
    "\\frac{18}{100} = 0.18\n",
    "$$\n",
    "\n",
    "\n",
    "### Eksempel plotting\n",
    "Nedenfor er kode som plotter fordelingen til Mortens valg som et sektordiagram."
   ]
  },
  {
   "cell_type": "code",
   "execution_count": null,
   "id": "855e3a16",
   "metadata": {},
   "outputs": [],
   "source": [
    "import matplotlib.pyplot as plt\n",
    "valg = ['Stein', 'Saks', 'Papir']\n",
    "\n",
    "mortens_valg = [morten.count(\"Stein\"), morten.count(\"Saks\"), morten.count(\"Papir\")]\n",
    "\n",
    "plt.pie(mortens_valg)\n",
    "plt.show()"
   ]
  },
  {
   "cell_type": "markdown",
   "id": "335bb7e6",
   "metadata": {},
   "source": [
    "Dette var helt OK, men vi kan pynte litt ved å slenge på noen flere argumenter når vi plotter. Alt annet er likt. Test ut å fjerne eller endre ulike deler av koden for å se hvordan det påvirker utseendet."
   ]
  },
  {
   "cell_type": "code",
   "execution_count": null,
   "id": "5fdc6059",
   "metadata": {},
   "outputs": [],
   "source": [
    "import matplotlib.pyplot as plt\n",
    "valg = ['Stein', 'Saks', 'Papir']\n",
    "\n",
    "mortens_valg = [morten.count(\"Stein\"), morten.count(\"Saks\"), morten.count(\"Papir\")]\n",
    "\n",
    "plt.pie(mortens_valg, labels = valg, autopct= '%1.1f%%', shadow = True, explode = [0.05, 0.05, 0.05], startangle = 90, colors = ['gold', 'green','red'])\n",
    "plt.show()"
   ]
  },
  {
   "cell_type": "markdown",
   "id": "2df7bfc5",
   "metadata": {},
   "source": [
    "### Oppgave\n",
    "Tell opp Amalies valg av 'Stein', 'Saks' og 'Papir'. Regn også ut den <i>relative frekvensen</i> for hvert av valgene. Deretter kan du lage et plot som illustrerer valgene hennes. Du kan bruke alt du har lært over."
   ]
  },
  {
   "cell_type": "code",
   "execution_count": null,
   "id": "086a4cf4",
   "metadata": {},
   "outputs": [],
   "source": [
    "### Løs oppgaven her! :)"
   ]
  },
  {
   "cell_type": "markdown",
   "id": "95671b3d",
   "metadata": {},
   "source": [
    "### Oppgave\n",
    "Tell opp Oskars valg av 'Stein', 'Saks' og 'Papir'. Regn også ut den <i>relative frekvensen</i> for hvert av valgene. Deretter kan du lage et plot som illustrerer valgene hans."
   ]
  },
  {
   "cell_type": "code",
   "execution_count": null,
   "id": "f75525ab",
   "metadata": {},
   "outputs": [],
   "source": [
    "### Løs oppgaven her! :)"
   ]
  },
  {
   "cell_type": "markdown",
   "id": "b03a4893",
   "metadata": {},
   "source": [
    "Men dette forteller oss jo ikke hvem som vinner. Da må vi først kjøre litt konkurranse! \n",
    "\n",
    "### Eksempel\n",
    "Vi kjører resultatene med Morten mot Amalie og teller opp poengene."
   ]
  },
  {
   "cell_type": "code",
   "execution_count": null,
   "id": "f767531e",
   "metadata": {},
   "outputs": [],
   "source": [
    "def gi_poeng(spiller1, spiller2):\n",
    "    spiller1_poeng = 0\n",
    "    spiller2_poeng = 0\n",
    "    for i in range(len(spiller1)):\n",
    "        if spiller1[i] == spiller2[i]:\n",
    "            pass\n",
    "        elif spiller1[i] == \"Stein\" and spiller2[i] == \"Saks\":\n",
    "            spiller1_poeng += 1\n",
    "        elif spiller1[i] == \"Saks\" and spiller2[i] == \"Papir\":\n",
    "            spiller1_poeng += 1\n",
    "        elif spiller1[i] == \"Papir\" and spiller2[i] == \"Stein\":\n",
    "            spiller1_poeng += 1\n",
    "        else:\n",
    "            spiller2_poeng += 1\n",
    "\n",
    "    return spiller1_poeng, spiller2_poeng\n",
    "\n",
    "morten_poeng = 0\n",
    "amalie_poeng = 0\n",
    "oskar_poeng = 0\n",
    "\n",
    "resultat = gi_poeng(morten, amalie)\n",
    "morten_poeng += resultat[0]\n",
    "amalie_poeng += resultat[1]\n",
    "\n",
    "print('Morten fikk:', morten_poeng, 'poeng')\n",
    "print('Amalie fikk:', amalie_poeng, 'poeng')"
   ]
  },
  {
   "cell_type": "markdown",
   "id": "79f82c97",
   "metadata": {},
   "source": [
    "### Oppgave\n",
    "Bygg ut koden nedenfor slik at du skårer runder der alle konkurerer i par:\n",
    "\n",
    "<b>Morten mot Amalie\n",
    "\n",
    "<b>Morten mot Oskar\n",
    "\n",
    "<b>Oskar mot Amalie"
   ]
  },
  {
   "cell_type": "code",
   "execution_count": null,
   "id": "dba335a7",
   "metadata": {},
   "outputs": [],
   "source": [
    "def gi_poeng(spiller1, spiller2):\n",
    "    spiller1_poeng = 0\n",
    "    spiller2_poeng = 0\n",
    "    for i in range(len(spiller1)):\n",
    "        if spiller1[i] == spiller2[i]:\n",
    "            pass\n",
    "        elif spiller1[i] == \"Stein\" and spiller2[i] == \"Saks\":\n",
    "            spiller1_poeng += 1\n",
    "        elif spiller1[i] == \"Saks\" and spiller2[i] == \"Papir\":\n",
    "            spiller1_poeng += 1\n",
    "        elif spiller1[i] == \"Papir\" and spiller2[i] == \"Stein\":\n",
    "            spiller1_poeng += 1\n",
    "        else:\n",
    "            spiller2_poeng += 1\n",
    "\n",
    "    return spiller1_poeng, spiller2_poeng\n",
    "\n",
    "morten_poeng = 0\n",
    "amalie_poeng = 0\n",
    "oskar_poeng = 0\n",
    "\n",
    "resultat = gi_poeng(morten, amalie)\n",
    "morten_poeng += resultat[0]\n",
    "amalie_poeng += resultat[1]\n",
    "\n",
    "### Her kan du redigere inn noe klokt slik at alle konkurrerer mot hverandre etter tur\n",
    "\n",
    "\n",
    "\n",
    "###\n",
    "\n",
    "print('Morten fikk:', morten_poeng, 'poeng')\n",
    "print('Amalie fikk:', amalie_poeng, 'poeng')\n",
    "print('Oskar fikk:', oskar_poeng, 'poeng')"
   ]
  },
  {
   "cell_type": "markdown",
   "id": "0b568f1a",
   "metadata": {},
   "source": [
    "Dersom du har gjort dette riktig bør Amalie ha vunnet med sine 75 poeng."
   ]
  },
  {
   "cell_type": "markdown",
   "id": "1ec504de",
   "metadata": {},
   "source": [
    "### Oppgave\n",
    "\n",
    "Lag din egen vekting av hvordan du ville gjettet, og se om du er i stand til å vinne i en konkurranse mot alle 3. Sett inn din egen vekting og prøv deg frem til du kommer seirende ut! Denne gangen blir valgene til Morten, Oskar og Amalie trukket på nytt, og vi kjører 1000 runder. Det er kun i listen din_vekting du trenger gjøre endringer, så ikke heng deg opp i at simuleringen er litt komplisert."
   ]
  },
  {
   "cell_type": "code",
   "execution_count": null,
   "id": "4f485d4a",
   "metadata": {},
   "outputs": [],
   "source": [
    "import random\n",
    "import matplotlib.pyplot as plt\n",
    "    \n",
    "valg = [\"Stein\", \"Saks\", \"Papir\"]\n",
    "mortens_vekting = [0.4, 0.4]\n",
    "amalies_vekting = [0.3, 0.3]\n",
    "oskars_vekting = [0.2, 0.5]\n",
    "din_vekting = [0.0, 0.0]     # Rediger denne - velger kun papir frem til du endrer.\n",
    "runder = 1000\n",
    "\n",
    "def lag_valg(spiller):\n",
    "    resultat = []\n",
    "    for _ in range(runder):\n",
    "        trekning = random.random()\n",
    "        if trekning <= spiller[0]:\n",
    "            valg = 'Stein'\n",
    "        elif trekning <= spiller[0]+spiller[1]:\n",
    "            valg = 'Saks'\n",
    "        else:\n",
    "            valg = 'Papir'\n",
    "        resultat.append(valg)\n",
    "    return resultat\n",
    "        \n",
    "            \n",
    "def gi_poeng(spiller1, spiller2):\n",
    "    spiller1_poeng = 0\n",
    "    spiller2_poeng = 0\n",
    "    for i in range(len(spiller1)):\n",
    "        if spiller1[i] == spiller2[i]:\n",
    "            pass\n",
    "        elif spiller1[i] == \"Stein\" and spiller2[i] == \"Saks\":\n",
    "            spiller1_poeng += 1\n",
    "        elif spiller1[i] == \"Saks\" and spiller2[i] == \"Papir\":\n",
    "            spiller1_poeng += 1\n",
    "        elif spiller1[i] == \"Papir\" and spiller2[i] == \"Stein\":\n",
    "            spiller1_poeng += 1\n",
    "        else:\n",
    "            spiller2_poeng += 1\n",
    "\n",
    "    return spiller1_poeng, spiller2_poeng\n",
    "\n",
    "morten = lag_valg(mortens_vekting)\n",
    "amalie = lag_valg(amalies_vekting)\n",
    "oskar = lag_valg(oskars_vekting)\n",
    "deg = lag_valg(din_vekting)\n",
    "\n",
    "morten_poeng = 0\n",
    "amalie_poeng = 0\n",
    "oskar_poeng = 0\n",
    "deg_poeng = 0\n",
    "\n",
    "resultat = gi_poeng(morten, amalie)\n",
    "morten_poeng += resultat[0]\n",
    "amalie_poeng += resultat[1]\n",
    "\n",
    "resultat = gi_poeng(morten, oskar)\n",
    "morten_poeng += resultat[0]\n",
    "oskar_poeng += resultat[1]\n",
    "\n",
    "resultat = gi_poeng(morten, deg)\n",
    "morten_poeng += resultat[0]\n",
    "deg_poeng += resultat[1]\n",
    "\n",
    "resultat = gi_poeng(oskar, amalie)\n",
    "oskar_poeng += resultat[0]\n",
    "amalie_poeng += resultat[1]\n",
    "\n",
    "resultat = gi_poeng(oskar, deg)\n",
    "oskar_poeng += resultat[0]\n",
    "deg_poeng += resultat[1]\n",
    "\n",
    "resultat = gi_poeng(amalie, deg)\n",
    "amalie_poeng += resultat[0]\n",
    "deg_poeng += resultat[1]\n",
    "\n",
    "poengliste = [morten_poeng, amalie_poeng, oskar_poeng, deg_poeng]\n",
    "merkelapper = ['Morten', 'Amalie', 'Oskar', 'Deg']\n",
    "plt.pie(poengliste, labels = merkelapper, autopct= '%1.1f%%', shadow = True, explode = [0.05, 0.05, 0.05, 0.05], startangle = 90, colors = ['gold', 'green','red', 'blue'])\n",
    "plt.show()"
   ]
  },
  {
   "cell_type": "markdown",
   "id": "1b513fd4",
   "metadata": {},
   "source": [
    "Til slutt kan vi jo lage et søylediagram over resultatene du fikk da du kjørte forrige kode:"
   ]
  },
  {
   "cell_type": "code",
   "execution_count": null,
   "id": "36793485",
   "metadata": {},
   "outputs": [],
   "source": [
    "plt.bar(merkelapper, poengliste, color = ['gold', 'green','red', 'blue'])\n",
    "plt.show()"
   ]
  },
  {
   "cell_type": "markdown",
   "id": "1207eca4",
   "metadata": {},
   "source": [
    "Gratulerer med å være i mål!\n",
    "\n",
    "Klapp deg selv på skulderen!"
   ]
  }
 ],
 "metadata": {
  "kernelspec": {
   "display_name": "Python 3 (ipykernel)",
   "language": "python",
   "name": "python3"
  },
  "language_info": {
   "codemirror_mode": {
    "name": "ipython",
    "version": 3
   },
   "file_extension": ".py",
   "mimetype": "text/x-python",
   "name": "python",
   "nbconvert_exporter": "python",
   "pygments_lexer": "ipython3",
   "version": "3.11.5"
  }
 },
 "nbformat": 4,
 "nbformat_minor": 5
}
