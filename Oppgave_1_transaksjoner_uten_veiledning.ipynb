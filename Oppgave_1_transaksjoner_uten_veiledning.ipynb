{
 "cells": [
  {
   "cell_type": "markdown",
   "id": "e04e1d2d",
   "metadata": {},
   "source": [
    "# Åpne oppgaver del 1\n",
    "\n",
    "## Økonomi\n",
    "\n",
    "### Mål for økten\n",
    "Når du har fullført økten er målet at du skal kunne lese tekstfiler og bruke innholdet i filen til å gjennomføre gjentatte, enkle matematiske operasjoner på datasettet. Dette skal forhåpentligvis være ganske vanskelig.\n",
    "\n",
    "<b>Valgfritt programmeringsspråk:</b>\n",
    "Oppgavene i denne økten kan løses med valgfritt programmeringsspråk, og dersom du kan programmere på flere språk anbefales det at du prøver å løse problemene i disse programmeringsspråkene også. Eksemplene og forklaringene er basert på Python ettersom dette er det vanligste programmeringsspråket i skolen. Dersom du bruker andre språk må du gjøre kalkuleringene utenfor Jupyter og bare skrive inn resultatet.\n",
    "\n",
    "<b>Begreper:</b> <i> fil, datasett, transaksjon<i>\n",
    " \n",
    "<b>Ferdigheter:</b> Lese enkle tekstfiler og analysere enkle datasett ved bruk av programmering"
   ]
  },
  {
   "cell_type": "markdown",
   "id": "db546c80",
   "metadata": {},
   "source": [
    "## Introduksjon til oppgaver\n",
    "Nedenfor ser du oppgavene du skal løse. \n",
    "\n",
    "Det finnes et testdatasett der du sjekket at du forstår oppgaven korrekt. Deretter kommer oppgavene hver for seg.\n",
    "\n",
    "<b>Oppg 1: Hva er totalsummen av alle transaksjonene i datasettet.  \n",
    "\n",
    "<b>Oppg 2: Hvor stor er den største enkelttransaksjonen? \n",
    "\n",
    "<b>Oppg 3: Hvor mye har kunden som brukte mest penger handlet for? \n",
    "\n",
    "<b>Oppg 4: Hvor mye har kunden som brukte minst penger handlet for? \n",
    "\n",
    "<b>Oppg 5: Hvor mye er summen av transaksjonene for de 3 kundene som handlet for mest penger? "
   ]
  },
  {
   "cell_type": "markdown",
   "id": "4deed643",
   "metadata": {},
   "source": [
    "La oss sette i gang og løse oppgavene. Du kan enten lage en kodesnutt som løser alle oppgavene, eller løse oppgavene hver for seg.\n",
    "\n",
    "### Hvordan lese en enkel fil tekstfil\n",
    "La meg først lese inn testdatasettet transaksjoner_test.txt og vise hvordan det ser ut. Husk at datasettet er ren tekst, så her må du jobbe litt. Det er lov å google funksjonalitet. Dersom du absolutt har veldig lyst kan du etter 1 time forsøke å bruke kunstig intelligens til å løse hele, eller deler av problemene."
   ]
  },
  {
   "cell_type": "code",
   "execution_count": null,
   "id": "a73b7709",
   "metadata": {},
   "outputs": [],
   "source": [
    "with open(\"transaksjoner_test.txt\") as file:  # Åpner filen vi ønsker å bruke. Denne lukkes automatisk og er enkel å bruke\n",
    "    data = file.read()                        # Leser innholdet i filen og lagrer innholdet i variabelen data\n",
    "print(type(data))                             # Skriver ut typen til datasettet\n",
    "print(data)                                   # Skriver ut innholdet i datasettet"
   ]
  },
  {
   "cell_type": "markdown",
   "id": "435fca1e",
   "metadata": {},
   "source": [
    "### Forklaring av data:\n",
    "En bedrift har en oversikt over alle transaksjoner per kunde. Denne eksempel-oversikten viser 4 kunder. \n",
    "\n",
    "Den første kunden har kjøp varer 1 gang for 2000kr. \n",
    "\n",
    "Den andre kunden har kjøpt varer 2 ganger for til sammen 4000kr. \n",
    "\n",
    "Tredje kunde har handlet for 12000kr.\n",
    "\n",
    "Fjerde kunde har handlet for 16000kr med sine 3 transaksjoner. \n",
    "\n",
    "Hver linje slutter med et linjeskift (altså \"\\n\"). I tillegg er hver linje adskilt med et ekstra linjeskift (altså \"\\n\\n\"), dvs et linjeskift etterfult av en tom linje.\n",
    "\n",
    "<b>Svar på oppgave 1 med testsettet: 34000\n",
    "\n",
    "<b>Svar på oppgave 2 med testsettet: 10000\n",
    "\n",
    "<b>Svar på oppgave 3 med testsettet: 16000\n",
    "\n",
    "<b>Svar på oppgave 4 med testsettet: 2000\n",
    "\n",
    "<b>Svar på oppgave 5 med testsettet: 32000\n"
   ]
  },
  {
   "cell_type": "markdown",
   "id": "89b711bc",
   "metadata": {},
   "source": [
    "<b> Husk at hvis du står fast kan du se på den veiledede gjennomgangen som heter Oppgave_1_transaksjoner_veiledet.ipynb\n",
    "\n",
    "\n",
    "## Nedenfor kommer den <i>egentlige<i> oppgaven. Her skal du løse oppgavene med det ekte datasettet:\n",
    "### Oppgave 1\n",
    "<b>Hva er totalsummen av alle transaksjonene i datasettet <i>transaksjoner.txt<i>?"
   ]
  },
  {
   "cell_type": "code",
   "execution_count": null,
   "id": "40b744f4",
   "metadata": {},
   "outputs": [],
   "source": [
    "with open(\"transaksjoner.txt\") as file:         # Åpner filen vi ønsker å bruke. Denne lukkes automatisk og funksjonen er enkel å bruke\n",
    "    data = file.read()                          # Leser innholdet i filen og lagrer innholdet i variabelen data\n",
    "\n",
    "\n",
    "# Skriv inn programmet ditt i denne kodeblokken, eller kjør det lokalt på din egen maskin med valgfritt kodespråk. \n",
    "# Svaret ditt lagres ikke, så hvis du vil ta vare på det må du lagre en lokal kopi av python-scriptet ditt."
   ]
  },
  {
   "cell_type": "markdown",
   "id": "544364ea",
   "metadata": {},
   "source": [
    "Her kan du sjekke om svaret ditt ble riktig. Kjør koden nedenfor, tast inn svaret ditt som input og se om du får riktig svar. Svaret er skrevet som et hexadesimal-tall, så du kan jo alltids jukse ved å bruke en online-konverterer, men det er jo ikke noe gøy! :)"
   ]
  },
  {
   "cell_type": "code",
   "execution_count": null,
   "id": "ea757f45",
   "metadata": {},
   "outputs": [],
   "source": [
    "totalsum = int(input('Skriv inn svar på oppgave 1: '))\n",
    "if totalsum == int(\"B20C1E\",16):\n",
    "    print(\"Du klarte det!\")\n",
    "else:\n",
    "    print(\"Beklager, svaret er feil. Prøv på nytt! :)\")"
   ]
  },
  {
   "cell_type": "markdown",
   "id": "47141eb3",
   "metadata": {},
   "source": [
    "### Oppgave 2\n",
    "<b>Hvor stor er den største enkelttransaksjonene i datasettet <i> transaksjoner.txt<i>?<b>"
   ]
  },
  {
   "cell_type": "code",
   "execution_count": null,
   "id": "5a215691",
   "metadata": {},
   "outputs": [],
   "source": [
    "# Husk å lese filen transaksjoner.txt på nytt.\n",
    "\n",
    "# Du kan kjøre koden som løser oppgaven her, eller lokalt på din egen maskin"
   ]
  },
  {
   "cell_type": "markdown",
   "id": "40680e0d",
   "metadata": {},
   "source": [
    "Her kan du sjekke svaret ditt ved å kjøre koden og skrive inn i input:"
   ]
  },
  {
   "cell_type": "code",
   "execution_count": null,
   "id": "a976e430",
   "metadata": {},
   "outputs": [],
   "source": [
    "storste_transaksjon = int(input('Skriv inn svar på oppgave 2: '))\n",
    "if storste_transaksjon == int(\"10AE1\",16):\n",
    "    print(\"Du klarte det!\")\n",
    "else:\n",
    "    print(\"Beklager, svaret er feil. Prøv på nytt! :)\")"
   ]
  },
  {
   "cell_type": "markdown",
   "id": "fdac7c13",
   "metadata": {},
   "source": [
    "### Oppgave 3\n",
    "<b>Hvor mye har kunden som brukte mest penger handlet for? "
   ]
  },
  {
   "cell_type": "code",
   "execution_count": null,
   "id": "63dad7d3",
   "metadata": {},
   "outputs": [],
   "source": [
    "# Husk å lese filen transaksjoner.txt på nytt\n",
    "\n",
    "# Du kan kjøre koden som løser oppgaven her, eller lokalt på din egen maskin"
   ]
  },
  {
   "cell_type": "markdown",
   "id": "6938c840",
   "metadata": {},
   "source": [
    "Nok en gang en kan du sjekke svaret ditt nedenfor:"
   ]
  },
  {
   "cell_type": "code",
   "execution_count": null,
   "id": "c16a7180",
   "metadata": {},
   "outputs": [],
   "source": [
    "storste_kunde = int(input('Skriv inn svar på oppgave 3: '))\n",
    "if storste_kunde == int(\"10EA9\",16):\n",
    "    print(\"Du klarte det!\")\n",
    "else:\n",
    "    print(\"Beklager, svaret er feil. Prøv på nytt! :)\")"
   ]
  },
  {
   "cell_type": "markdown",
   "id": "17066fe4",
   "metadata": {},
   "source": [
    "### Oppgave 4\n",
    "<b>Hvor mye har kunden som brukte minst penger handlet for?"
   ]
  },
  {
   "cell_type": "code",
   "execution_count": null,
   "id": "a237f3b0",
   "metadata": {},
   "outputs": [],
   "source": [
    "# Husk å lese filen transaksjoner.txt på nytt.\n",
    "\n",
    "# Du kan kjøre koden som løser oppgaven her, eller lokalt på din egen maskin"
   ]
  },
  {
   "cell_type": "markdown",
   "id": "2fa36eae",
   "metadata": {},
   "source": [
    "Sjekk svaret ditt:"
   ]
  },
  {
   "cell_type": "code",
   "execution_count": null,
   "id": "045e4662",
   "metadata": {},
   "outputs": [],
   "source": [
    "minste_kunde = int(input('Skriv inn svar på oppgave 4: '))\n",
    "if minste_kunde == int(\"18B0\",16):\n",
    "    print(\"Du klarte det!\")\n",
    "else:\n",
    "    print(\"Beklager, svaret er feil. Prøv på nytt! :)\")"
   ]
  },
  {
   "cell_type": "markdown",
   "id": "7d7fd4e2",
   "metadata": {},
   "source": [
    "### Oppgave 5\n",
    "<b> Hvor mye er summen av transaksjonene for de 3 kundene som handlet for mest penger?"
   ]
  },
  {
   "cell_type": "code",
   "execution_count": null,
   "id": "12e99fbe",
   "metadata": {},
   "outputs": [],
   "source": [
    "# Husk å lese filen transaksjoner.txt på nytt.\n",
    "\n",
    "# Du kan kjøre koden som løser oppgaven her, eller lokalt på din egen maskin"
   ]
  },
  {
   "cell_type": "markdown",
   "id": "f9e742d7",
   "metadata": {},
   "source": [
    "Sjekk svaret ditt:"
   ]
  },
  {
   "cell_type": "code",
   "execution_count": null,
   "id": "dcc4f82f",
   "metadata": {},
   "outputs": [],
   "source": [
    "tre_storste_kunder = int(input('Skriv inn svar på oppgave 5: '))\n",
    "if tre_storste_kunder == int(\"3232F\",16):\n",
    "    print(\"Du klarte det!\")\n",
    "else:\n",
    "    print(\"Beklager, svaret er feil. Prøv på nytt! :)\")"
   ]
  },
  {
   "cell_type": "markdown",
   "id": "bdcc9ec1",
   "metadata": {},
   "source": [
    "Du har nå løst alle de 5 oppgavene, eller scrollet deg til bunnen av siden. \n",
    "Uansett: Gratulerer!\n",
    "\n",
    "Bruk noen minutter på å fylle ut denne formsen:\n",
    "https://forms.office.com/e/4C98kHUGFw\n",
    "\n",
    "Hvis du liker denne typen oppgaver anbefaler jeg at du lager deg en konto på www.adventofcode.com og prøver deg på noen av oppgavene du finner der! Det er kjempegøy!\n",
    "\n",
    "Kjør koden nedenfor hvis du vil ha applaus!"
   ]
  },
  {
   "cell_type": "code",
   "execution_count": null,
   "id": "14aee304",
   "metadata": {},
   "outputs": [],
   "source": [
    "for _ in range(200):\n",
    "    print(\"Klapp\")"
   ]
  }
 ],
 "metadata": {
  "kernelspec": {
   "display_name": "Python 3 (ipykernel)",
   "language": "python",
   "name": "python3"
  },
  "language_info": {
   "codemirror_mode": {
    "name": "ipython",
    "version": 3
   },
   "file_extension": ".py",
   "mimetype": "text/x-python",
   "name": "python",
   "nbconvert_exporter": "python",
   "pygments_lexer": "ipython3",
   "version": "3.11.5"
  }
 },
 "nbformat": 4,
 "nbformat_minor": 5
}
